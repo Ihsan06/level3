{
 "cells": [
  {
   "cell_type": "code",
   "execution_count": 1,
   "metadata": {},
   "outputs": [
    {
     "name": "stderr",
     "output_type": "stream",
     "text": [
      "The default value of auto_mkdir=True has been deprecated and will be changed to auto_mkdir=False by default in a future release.\n"
     ]
    }
   ],
   "source": [
    "from kedro.framework.context import load_context\n",
    "context = load_context(\"/home/lukas/pjs/operativelogik/op-logik\")\n",
    "catalog = context.catalog"
   ]
  },
  {
   "cell_type": "code",
   "execution_count": 10,
   "metadata": {},
   "outputs": [
    {
     "name": "stdout",
     "output_type": "stream",
     "text": [
      "2020-12-03 17:21:46,163 - kedro.io.data_catalog - INFO - Loading data from `filfeaturedict` (PickleDataSet)...\n",
      "2020-12-03 17:21:46,759 - kedro.io.data_catalog - INFO - Loading data from `filialdata` (CSVDataSet)...\n"
     ]
    }
   ],
   "source": [
    "filfeaturedict = context.catalog.load('filfeaturedict')\n",
    "filialdata = context.catalog.load('filialdata')"
   ]
  },
  {
   "cell_type": "code",
   "execution_count": 18,
   "metadata": {},
   "outputs": [
    {
     "name": "stdout",
     "output_type": "stream",
     "text": [
      "2020-12-26 15:06:51,745 - kedro.io.data_catalog - INFO - Loading data from `fdict` (PickleDataSet)...\n",
      "2020-12-26 15:06:57,065 - kedro.io.data_catalog - INFO - Loading data from `weatherdict` (PickleDataSet)...\n",
      "2020-12-26 15:06:57,195 - kedro.io.data_catalog - INFO - Loading data from `parameters` (MemoryDataSet)...\n",
      "2020-12-26 15:06:57,242 - kedro.io.data_catalog - INFO - Loading data from `sales_lag` (CSVDataSet)...\n"
     ]
    }
   ],
   "source": [
    "fdict = context.catalog.load('fdict')\n",
    "weatherdict = context.catalog.load('weatherdict')\n",
    "parameters = context.catalog.load('parameters')\n",
    "sales_lag = context.catalog.load('sales_lag')"
   ]
  },
  {
   "cell_type": "code",
   "execution_count": 8,
   "metadata": {},
   "outputs": [
    {
     "name": "stdout",
     "output_type": "stream",
     "text": [
      "2020-12-03 17:21:34,274 - kedro.io.data_catalog - INFO - Loading data from `pred_dates` (PickleDataSet)...\n"
     ]
    },
    {
     "name": "stderr",
     "output_type": "stream",
     "text": [
      "`should_run_async` will not call `transform_cell` automatically in the future. Please pass the result to `transformed_cell` argument and any exception that happen during thetransform in `preprocessing_exc_tuple` in IPython 7.17 and above.\n"
     ]
    }
   ],
   "source": [
    "pred_dates = context.catalog.load('pred_dates')"
   ]
  },
  {
   "cell_type": "code",
   "execution_count": 11,
   "metadata": {},
   "outputs": [
    {
     "data": {
      "text/html": [
       "<div>\n",
       "<style scoped>\n",
       "    .dataframe tbody tr th:only-of-type {\n",
       "        vertical-align: middle;\n",
       "    }\n",
       "\n",
       "    .dataframe tbody tr th {\n",
       "        vertical-align: top;\n",
       "    }\n",
       "\n",
       "    .dataframe thead th {\n",
       "        text-align: right;\n",
       "    }\n",
       "</style>\n",
       "<table border=\"1\" class=\"dataframe\">\n",
       "  <thead>\n",
       "    <tr style=\"text-align: right;\">\n",
       "      <th></th>\n",
       "      <th>amount</th>\n",
       "      <th>date</th>\n",
       "      <th>discount</th>\n",
       "      <th>id</th>\n",
       "      <th>prediction</th>\n",
       "      <th>wochentag</th>\n",
       "      <th>monat</th>\n",
       "      <th>datecode</th>\n",
       "      <th>lag_7</th>\n",
       "      <th>lag_14</th>\n",
       "      <th>lag_21</th>\n",
       "      <th>lag_28</th>\n",
       "      <th>sunhour</th>\n",
       "      <th>weathercodes</th>\n",
       "      <th>feels_like</th>\n",
       "      <th>heat_index</th>\n",
       "    </tr>\n",
       "  </thead>\n",
       "  <tbody>\n",
       "    <tr>\n",
       "      <th>0</th>\n",
       "      <td>NaN</td>\n",
       "      <td>2019-04-23</td>\n",
       "      <td>8</td>\n",
       "      <td>446801</td>\n",
       "      <td>NaN</td>\n",
       "      <td>1</td>\n",
       "      <td>4</td>\n",
       "      <td>2</td>\n",
       "      <td>95</td>\n",
       "      <td>90</td>\n",
       "      <td>57</td>\n",
       "      <td>90</td>\n",
       "      <td>14.1</td>\n",
       "      <td>116.0</td>\n",
       "      <td>14.0</td>\n",
       "      <td>15.0</td>\n",
       "    </tr>\n",
       "    <tr>\n",
       "      <th>1</th>\n",
       "      <td>NaN</td>\n",
       "      <td>2019-04-24</td>\n",
       "      <td>8</td>\n",
       "      <td>447201</td>\n",
       "      <td>NaN</td>\n",
       "      <td>2</td>\n",
       "      <td>4</td>\n",
       "      <td>2</td>\n",
       "      <td>68</td>\n",
       "      <td>72</td>\n",
       "      <td>89</td>\n",
       "      <td>77</td>\n",
       "      <td>14.2</td>\n",
       "      <td>116.0</td>\n",
       "      <td>15.0</td>\n",
       "      <td>17.0</td>\n",
       "    </tr>\n",
       "    <tr>\n",
       "      <th>2</th>\n",
       "      <td>NaN</td>\n",
       "      <td>2019-04-25</td>\n",
       "      <td>0</td>\n",
       "      <td>447601</td>\n",
       "      <td>NaN</td>\n",
       "      <td>3</td>\n",
       "      <td>4</td>\n",
       "      <td>2</td>\n",
       "      <td>104</td>\n",
       "      <td>68</td>\n",
       "      <td>129</td>\n",
       "      <td>88</td>\n",
       "      <td>14.2</td>\n",
       "      <td>116.0</td>\n",
       "      <td>14.0</td>\n",
       "      <td>15.0</td>\n",
       "    </tr>\n",
       "    <tr>\n",
       "      <th>3</th>\n",
       "      <td>NaN</td>\n",
       "      <td>2019-04-26</td>\n",
       "      <td>0</td>\n",
       "      <td>448001</td>\n",
       "      <td>NaN</td>\n",
       "      <td>4</td>\n",
       "      <td>4</td>\n",
       "      <td>2</td>\n",
       "      <td>0</td>\n",
       "      <td>114</td>\n",
       "      <td>108</td>\n",
       "      <td>62</td>\n",
       "      <td>8.9</td>\n",
       "      <td>302.0</td>\n",
       "      <td>6.0</td>\n",
       "      <td>9.0</td>\n",
       "    </tr>\n",
       "    <tr>\n",
       "      <th>4</th>\n",
       "      <td>NaN</td>\n",
       "      <td>2019-04-27</td>\n",
       "      <td>0</td>\n",
       "      <td>448401</td>\n",
       "      <td>NaN</td>\n",
       "      <td>5</td>\n",
       "      <td>4</td>\n",
       "      <td>2</td>\n",
       "      <td>138</td>\n",
       "      <td>142</td>\n",
       "      <td>123</td>\n",
       "      <td>348</td>\n",
       "      <td>11.1</td>\n",
       "      <td>353.0</td>\n",
       "      <td>6.0</td>\n",
       "      <td>9.0</td>\n",
       "    </tr>\n",
       "  </tbody>\n",
       "</table>\n",
       "</div>"
      ],
      "text/plain": [
       "   amount       date  discount      id  prediction  wochentag  monat  \\\n",
       "0     NaN 2019-04-23         8  446801         NaN          1      4   \n",
       "1     NaN 2019-04-24         8  447201         NaN          2      4   \n",
       "2     NaN 2019-04-25         0  447601         NaN          3      4   \n",
       "3     NaN 2019-04-26         0  448001         NaN          4      4   \n",
       "4     NaN 2019-04-27         0  448401         NaN          5      4   \n",
       "\n",
       "   datecode  lag_7  lag_14  lag_21  lag_28  sunhour  weathercodes  feels_like  \\\n",
       "0         2     95      90      57      90     14.1         116.0        14.0   \n",
       "1         2     68      72      89      77     14.2         116.0        15.0   \n",
       "2         2    104      68     129      88     14.2         116.0        14.0   \n",
       "3         2      0     114     108      62      8.9         302.0         6.0   \n",
       "4         2    138     142     123     348     11.1         353.0         6.0   \n",
       "\n",
       "   heat_index  \n",
       "0        15.0  \n",
       "1        17.0  \n",
       "2        15.0  \n",
       "3         9.0  \n",
       "4         9.0  "
      ]
     },
     "execution_count": 11,
     "metadata": {},
     "output_type": "execute_result"
    }
   ],
   "source": [
    "filfeaturedict['2']['101']"
   ]
  },
  {
   "cell_type": "code",
   "execution_count": 78,
   "metadata": {},
   "outputs": [
    {
     "name": "stdout",
     "output_type": "stream",
     "text": [
      "2020-11-27 07:56:17,645 - kedro.io.data_catalog - INFO - Loading data from `basedict` (PickleDataSet)...\n"
     ]
    }
   ],
   "source": [
    "basedict = context.catalog.load('basedict')"
   ]
  },
  {
   "cell_type": "code",
   "execution_count": 16,
   "metadata": {},
   "outputs": [
    {
     "name": "stdout",
     "output_type": "stream",
     "text": [
      "2020-12-02 13:04:25,205 - kedro.io.data_catalog - INFO - Loading data from `postframe` (CSVDataSet)...\n"
     ]
    }
   ],
   "source": [
    "postframe = context.catalog.load('postframe') "
   ]
  },
  {
   "cell_type": "code",
   "execution_count": 26,
   "metadata": {},
   "outputs": [],
   "source": [
    "import json"
   ]
  },
  {
   "cell_type": "code",
   "execution_count": 36,
   "metadata": {},
   "outputs": [
    {
     "data": {
      "text/plain": [
       "202.56410256410257"
      ]
     },
     "execution_count": 36,
     "metadata": {},
     "output_type": "execute_result"
    }
   ],
   "source": [
    "postframe.groupby('artnr')['prediction'].mean().iloc[0]"
   ]
  },
  {
   "cell_type": "code",
   "execution_count": 4,
   "metadata": {},
   "outputs": [],
   "source": [
    "import requests\n",
    "import json"
   ]
  },
  {
   "cell_type": "code",
   "execution_count": 14,
   "metadata": {},
   "outputs": [],
   "source": [
    "# json.dumps(list(postframe.groupby('artnr')['prediction'].mean().to_json()),indent=2)"
   ]
  },
  {
   "cell_type": "code",
   "execution_count": 195,
   "metadata": {},
   "outputs": [
    {
     "name": "stdout",
     "output_type": "stream",
     "text": [
      "2020-11-27 09:38:54,313 - kedro.io.data_catalog - INFO - Loading data from `pred_dates` (PickleDataSet)...\n"
     ]
    }
   ],
   "source": [
    "lag = 7\n",
    "lagbase = None\n",
    "filiale = '2'\n",
    "article = '101'\n",
    "pred_duration = 5\n",
    "start_date= '2019-04-23'\n",
    "lags_used = [7, 14, 21, 28]\n",
    "pred_dates = context.catalog.load('pred_dates')\n",
    "api_length = 400\n",
    "server_link = 'http://35.234.103.119/api'"
   ]
  },
  {
   "cell_type": "code",
   "execution_count": 205,
   "metadata": {},
   "outputs": [
    {
     "name": "stdout",
     "output_type": "stream",
     "text": [
      "http://35.234.103.119/api/sales/amount?dateFrom=2019-03-26&dateTo=2019-04-20&pageSize=400&page=\n"
     ]
    },
    {
     "name": "stderr",
     "output_type": "stream",
     "text": [
      "`should_run_async` will not call `transform_cell` automatically in the future. Please pass the result to `transformed_cell` argument and any exception that happen during thetransform in `preprocessing_exc_tuple` in IPython 7.17 and above.\n"
     ]
    }
   ],
   "source": [
    "start = str(min(pred_dates) - datetime.timedelta(max(lags_used)))[:-9]\n",
    "end = str(max(pred_dates) - datetime.timedelta(min(lags_used)))[:-9] # adapted ende\n",
    "URL = server_link + '/sales/amount?dateFrom=' + start + '&dateTo=' + end + '&pageSize=' + str(api_length) + '&page='\n",
    "print(URL)"
   ]
  },
  {
   "cell_type": "code",
   "execution_count": 211,
   "metadata": {},
   "outputs": [],
   "source": [
    "import requests"
   ]
  },
  {
   "cell_type": "code",
   "execution_count": 3,
   "metadata": {},
   "outputs": [],
   "source": [
    "URL = \"http://35.234.103.119/api/sales/amount?dateFrom=2019-03-26&dateTo=2019-04-20&pageSize=10400\""
   ]
  },
  {
   "cell_type": "code",
   "execution_count": 276,
   "metadata": {},
   "outputs": [],
   "source": [
    "start = str(min(pred_dates) - datetime.timedelta(max(lags_used)))[:-9]\n",
    "end = str(max(pred_dates) - datetime.timedelta(min(lags_used)))[:-9] # adapted ende"
   ]
  },
  {
   "cell_type": "code",
   "execution_count": 282,
   "metadata": {},
   "outputs": [
    {
     "data": {
      "text/plain": [
       "25"
      ]
     },
     "execution_count": 282,
     "metadata": {},
     "output_type": "execute_result"
    }
   ],
   "source": [
    "(pd.to_datetime(end) - pd.to_datetime(start)).days "
   ]
  },
  {
   "cell_type": "code",
   "execution_count": 4,
   "metadata": {},
   "outputs": [],
   "source": [
    "raw = requests.get(url = URL)"
   ]
  },
  {
   "cell_type": "code",
   "execution_count": 5,
   "metadata": {},
   "outputs": [],
   "source": [
    "df = pd.DataFrame(raw.json())"
   ]
  },
  {
   "cell_type": "code",
   "execution_count": 9,
   "metadata": {},
   "outputs": [
    {
     "data": {
      "text/plain": [
       "10400"
      ]
     },
     "execution_count": 9,
     "metadata": {},
     "output_type": "execute_result"
    }
   ],
   "source": [
    "df.id.nunique()"
   ]
  },
  {
   "cell_type": "code",
   "execution_count": 6,
   "metadata": {},
   "outputs": [
    {
     "data": {
      "text/plain": [
       "10400"
      ]
     },
     "execution_count": 6,
     "metadata": {},
     "output_type": "execute_result"
    }
   ],
   "source": [
    "len(pd.Series(raw.json()).apply(lambda x: x['id']).unique())"
   ]
  },
  {
   "cell_type": "code",
   "execution_count": 258,
   "metadata": {},
   "outputs": [
    {
     "data": {
      "text/plain": [
       "array([435601, 435602, 435603, ..., 445721, 445722, 445723])"
      ]
     },
     "execution_count": 258,
     "metadata": {},
     "output_type": "execute_result"
    }
   ],
   "source": [
    "pd.Series(reqs).apply(lambda x: x['id']).unique()"
   ]
  },
  {
   "cell_type": "code",
   "execution_count": 265,
   "metadata": {},
   "outputs": [],
   "source": [
    "base = \"http://35.234.103.119/api/sales/amount?dateFrom=2019-03-26&dateTo=2019-04-20&pageSize=400&page=\"\n",
    "reqs = []\n",
    "for i in pages:\n",
    "    URL = base + str(i)\n",
    "    rare = requests.get(url = URL)\n",
    "    reqs += rare.json()\n",
    "new = pd.concat(list(pd.Series(reqs).apply(lambda x: pd.json_normalize(x))))"
   ]
  },
  {
   "cell_type": "code",
   "execution_count": null,
   "metadata": {},
   "outputs": [],
   "source": [
    "for filiale in sales_lag['filnr'].unique():\n",
    "    for article in sales_lag['artnr'].unique():\n",
    "        print(filiale, article, ' ', len(new[(new['filnr']==int(filiale))&(new['artnr']==int(article))]))"
   ]
  },
  {
   "cell_type": "code",
   "execution_count": 200,
   "metadata": {},
   "outputs": [],
   "source": [
    "import nest_asyncio\n",
    "import datetime\n",
    "import asyncio\n",
    "import aiohttp\n",
    "nest_asyncio.apply()\n",
    "def laggetter(lags_used, pred_dates, api_length, server_link):\n",
    "    start = str(min(pred_dates) - datetime.timedelta(max(lags_used)))[:-9]\n",
    "    end = str(max(pred_dates) - datetime.timedelta(min(lags_used)))[:-9] # adapted ende\n",
    "    URL = server_link + '/sales/amount?dateFrom=' + start + '&dateTo=' + end + '&pageSize=' + str(api_length) + '&page='\n",
    "    pages = range(1, max(lags_used)+1)\n",
    "    list_df = func(URL, pages)\n",
    "    df = pd.concat(list(pd.Series(list_df).apply(lambda x: pd.json_normalize(x))))\n",
    "    df = df.iloc[pd.to_datetime(df.date).values.argsort()] # return df sorted by date after asynchronous calls\n",
    "    return df\n",
    "async def fetch(session, url):\n",
    "    async with session.get(url) as response:\n",
    "        json_response = await response.json()\n",
    "        return json_response\n",
    "\n",
    "async def main(URL, pages):\n",
    "    async with aiohttp.ClientSession() as session:\n",
    "        tasks = [fetch(session, (URL+str(i))) for i in pages]\n",
    "        responses = await asyncio.gather(*tasks)\n",
    "        return responses\n",
    "\n",
    "def func(URL, pages):\n",
    "    responses = asyncio.run(main(URL, pages))\n",
    "    return responses"
   ]
  },
  {
   "cell_type": "code",
   "execution_count": 201,
   "metadata": {},
   "outputs": [
    {
     "name": "stdout",
     "output_type": "stream",
     "text": [
      "http://35.234.103.119/api/sales/amount?dateFrom=2019-03-26&dateTo=2019-04-20&pageSize=400&page=\n"
     ]
    }
   ],
   "source": [
    "df = laggetter(lags_used, pred_dates, api_length, server_link)"
   ]
  },
  {
   "cell_type": "code",
   "execution_count": null,
   "metadata": {},
   "outputs": [],
   "source": [
    "http://35.234.103.119/api/sales/amount?dateFrom=2019-03-26&dateTo=2019-04-20&pageSize=400&page=\n"
   ]
  },
  {
   "cell_type": "code",
   "execution_count": 269,
   "metadata": {},
   "outputs": [
    {
     "data": {
      "text/plain": [
       "446000"
      ]
     },
     "execution_count": 269,
     "metadata": {},
     "output_type": "execute_result"
    }
   ],
   "source": [
    "pd.DataFrame.from_dict(reqs).drop_duplicates('id').id.max()"
   ]
  },
  {
   "cell_type": "code",
   "execution_count": 238,
   "metadata": {},
   "outputs": [
    {
     "name": "stderr",
     "output_type": "stream",
     "text": [
      "`should_run_async` will not call `transform_cell` automatically in the future. Please pass the result to `transformed_cell` argument and any exception that happen during thetransform in `preprocessing_exc_tuple` in IPython 7.17 and above.\n"
     ]
    },
    {
     "data": {
      "text/html": [
       "<div>\n",
       "<style scoped>\n",
       "    .dataframe tbody tr th:only-of-type {\n",
       "        vertical-align: middle;\n",
       "    }\n",
       "\n",
       "    .dataframe tbody tr th {\n",
       "        vertical-align: top;\n",
       "    }\n",
       "\n",
       "    .dataframe thead th {\n",
       "        text-align: right;\n",
       "    }\n",
       "</style>\n",
       "<table border=\"1\" class=\"dataframe\">\n",
       "  <thead>\n",
       "    <tr style=\"text-align: right;\">\n",
       "      <th></th>\n",
       "      <th>amount</th>\n",
       "      <th>artnr</th>\n",
       "      <th>date</th>\n",
       "      <th>filnr</th>\n",
       "      <th>id</th>\n",
       "    </tr>\n",
       "  </thead>\n",
       "  <tbody>\n",
       "    <tr>\n",
       "      <th>369</th>\n",
       "      <td>47</td>\n",
       "      <td>626</td>\n",
       "      <td>2019-03-28</td>\n",
       "      <td>49</td>\n",
       "      <td>436770</td>\n",
       "    </tr>\n",
       "    <tr>\n",
       "      <th>137</th>\n",
       "      <td>47</td>\n",
       "      <td>626</td>\n",
       "      <td>2019-03-28</td>\n",
       "      <td>49</td>\n",
       "      <td>436770</td>\n",
       "    </tr>\n",
       "    <tr>\n",
       "      <th>137</th>\n",
       "      <td>47</td>\n",
       "      <td>626</td>\n",
       "      <td>2019-03-28</td>\n",
       "      <td>49</td>\n",
       "      <td>436770</td>\n",
       "    </tr>\n",
       "  </tbody>\n",
       "</table>\n",
       "</div>"
      ],
      "text/plain": [
       "     amount  artnr        date  filnr      id\n",
       "369      47    626  2019-03-28     49  436770\n",
       "137      47    626  2019-03-28     49  436770\n",
       "137      47    626  2019-03-28     49  436770"
      ]
     },
     "execution_count": 238,
     "metadata": {},
     "output_type": "execute_result"
    }
   ],
   "source": [
    "df[df['id']==436770]"
   ]
  },
  {
   "cell_type": "code",
   "execution_count": 67,
   "metadata": {},
   "outputs": [],
   "source": [
    "start = str(min(pred_dates) - datetime.timedelta(max(lags_used)))[:-9]"
   ]
  },
  {
   "cell_type": "code",
   "execution_count": 17,
   "metadata": {},
   "outputs": [],
   "source": [
    "total = len(requests.get(url= parameters['server_link'] + '/sales/unique/id').json())"
   ]
  },
  {
   "cell_type": "code",
   "execution_count": 20,
   "metadata": {},
   "outputs": [],
   "source": [
    "n_arts = len(requests.get(url= parameters['server_link'] + '/sales/unique/artnr').json())\n",
    "n_fils = len(requests.get(url= parameters['server_link'] + '/sales/unique/filnr').json())\n",
    "api_length = n_arts * n_fils"
   ]
  },
  {
   "cell_type": "code",
   "execution_count": 153,
   "metadata": {},
   "outputs": [
    {
     "name": "stdout",
     "output_type": "stream",
     "text": [
      "5\n",
      "12\n",
      "19\n",
      "26\n"
     ]
    }
   ],
   "source": [
    "for lag in parameters['lags_used']:\n",
    "    print(lag-(parameters['lags_used'][0]-pred_duration))"
   ]
  },
  {
   "cell_type": "code",
   "execution_count": 140,
   "metadata": {},
   "outputs": [
    {
     "data": {
      "text/plain": [
       "array([  0, 138, 138, 653, 273])"
      ]
     },
     "execution_count": 140,
     "metadata": {},
     "output_type": "execute_result"
    }
   ],
   "source": [
    "start = lag-(lag-pred_duration)\n",
    "# faster: apply call on df to return \"lagdf\" for merging?\n",
    "sales_lag[(sales_lag['filnr']==int(filiale))&(sales_lag['artnr']==int(article))].iloc[-start:lagbase]['amount'].values"
   ]
  },
  {
   "cell_type": "code",
   "execution_count": 149,
   "metadata": {},
   "outputs": [
    {
     "data": {
      "text/plain": [
       "array([  0, 138, 138, 653, 273])"
      ]
     },
     "execution_count": 149,
     "metadata": {},
     "output_type": "execute_result"
    }
   ],
   "source": [
    "sales_lag[(sales_lag['filnr']==int(filiale))&(sales_lag['artnr']==int(article))].iloc[-start:lagbase].amount.values"
   ]
  },
  {
   "cell_type": "code",
   "execution_count": 112,
   "metadata": {},
   "outputs": [
    {
     "name": "stderr",
     "output_type": "stream",
     "text": [
      "`should_run_async` will not call `transform_cell` automatically in the future. Please pass the result to `transformed_cell` argument and any exception that happen during thetransform in `preprocessing_exc_tuple` in IPython 7.17 and above.\n"
     ]
    },
    {
     "data": {
      "text/html": [
       "<div>\n",
       "<style scoped>\n",
       "    .dataframe tbody tr th:only-of-type {\n",
       "        vertical-align: middle;\n",
       "    }\n",
       "\n",
       "    .dataframe tbody tr th {\n",
       "        vertical-align: top;\n",
       "    }\n",
       "\n",
       "    .dataframe thead th {\n",
       "        text-align: right;\n",
       "    }\n",
       "</style>\n",
       "<table border=\"1\" class=\"dataframe\">\n",
       "  <thead>\n",
       "    <tr style=\"text-align: right;\">\n",
       "      <th></th>\n",
       "      <th>amount</th>\n",
       "      <th>artnr</th>\n",
       "      <th>date</th>\n",
       "      <th>filnr</th>\n",
       "      <th>id</th>\n",
       "    </tr>\n",
       "  </thead>\n",
       "  <tbody>\n",
       "    <tr>\n",
       "      <th>7824</th>\n",
       "      <td>306</td>\n",
       "      <td>101</td>\n",
       "      <td>2019-04-14</td>\n",
       "      <td>2</td>\n",
       "      <td>443201</td>\n",
       "    </tr>\n",
       "    <tr>\n",
       "      <th>8265</th>\n",
       "      <td>61</td>\n",
       "      <td>101</td>\n",
       "      <td>2019-04-15</td>\n",
       "      <td>2</td>\n",
       "      <td>443601</td>\n",
       "    </tr>\n",
       "    <tr>\n",
       "      <th>8595</th>\n",
       "      <td>95</td>\n",
       "      <td>101</td>\n",
       "      <td>2019-04-16</td>\n",
       "      <td>2</td>\n",
       "      <td>444001</td>\n",
       "    </tr>\n",
       "    <tr>\n",
       "      <th>9069</th>\n",
       "      <td>68</td>\n",
       "      <td>101</td>\n",
       "      <td>2019-04-17</td>\n",
       "      <td>2</td>\n",
       "      <td>444401</td>\n",
       "    </tr>\n",
       "    <tr>\n",
       "      <th>9435</th>\n",
       "      <td>104</td>\n",
       "      <td>101</td>\n",
       "      <td>2019-04-18</td>\n",
       "      <td>2</td>\n",
       "      <td>444801</td>\n",
       "    </tr>\n",
       "    <tr>\n",
       "      <th>9905</th>\n",
       "      <td>0</td>\n",
       "      <td>101</td>\n",
       "      <td>2019-04-19</td>\n",
       "      <td>2</td>\n",
       "      <td>445201</td>\n",
       "    </tr>\n",
       "    <tr>\n",
       "      <th>10269</th>\n",
       "      <td>138</td>\n",
       "      <td>101</td>\n",
       "      <td>2019-04-20</td>\n",
       "      <td>2</td>\n",
       "      <td>445601</td>\n",
       "    </tr>\n",
       "  </tbody>\n",
       "</table>\n",
       "</div>"
      ],
      "text/plain": [
       "       amount  artnr        date  filnr      id\n",
       "7824      306    101  2019-04-14      2  443201\n",
       "8265       61    101  2019-04-15      2  443601\n",
       "8595       95    101  2019-04-16      2  444001\n",
       "9069       68    101  2019-04-17      2  444401\n",
       "9435      104    101  2019-04-18      2  444801\n",
       "9905        0    101  2019-04-19      2  445201\n",
       "10269     138    101  2019-04-20      2  445601"
      ]
     },
     "execution_count": 112,
     "metadata": {},
     "output_type": "execute_result"
    }
   ],
   "source": [
    "sales_lag[(sales_lag['filnr']==int(filiale))&(sales_lag['artnr']==int(article))].iloc[-lag:None]#['amount'].values"
   ]
  },
  {
   "cell_type": "code",
   "execution_count": 93,
   "metadata": {},
   "outputs": [
    {
     "data": {
      "text/plain": [
       "array(['2019-03-26', '2019-03-27', '2019-03-28', '2019-03-29',\n",
       "       '2019-03-30', '2019-03-31', '2019-04-01', '2019-04-02',\n",
       "       '2019-04-03', '2019-04-04', '2019-04-05', '2019-04-06',\n",
       "       '2019-04-07', '2019-04-08', '2019-04-09', '2019-04-10',\n",
       "       '2019-04-11', '2019-04-12', '2019-04-13', '2019-04-14',\n",
       "       '2019-04-15', '2019-04-16', '2019-04-17', '2019-04-18',\n",
       "       '2019-04-19', '2019-04-20'], dtype=object)"
      ]
     },
     "execution_count": 93,
     "metadata": {},
     "output_type": "execute_result"
    }
   ],
   "source": [
    "sales_lag['date'].unique()"
   ]
  },
  {
   "cell_type": "code",
   "execution_count": 30,
   "metadata": {},
   "outputs": [
    {
     "data": {
      "text/plain": [
       "'/sales?dateFrom=2019-03-29&dateTo=2019-04-23&pageSize=400&page='"
      ]
     },
     "execution_count": 30,
     "metadata": {},
     "output_type": "execute_result"
    }
   ],
   "source": [
    "'/sales?dateFrom=' + start + '&dateTo=' + ende + '&pageSize=' + str(api_length) + '&page='"
   ]
  },
  {
   "cell_type": "code",
   "execution_count": 74,
   "metadata": {},
   "outputs": [
    {
     "name": "stderr",
     "output_type": "stream",
     "text": [
      "`should_run_async` will not call `transform_cell` automatically in the future. Please pass the result to `transformed_cell` argument and any exception that happen during thetransform in `preprocessing_exc_tuple` in IPython 7.17 and above.\n"
     ]
    }
   ],
   "source": [
    "# sales_lag[(sales_lag['filnr']==int(filiale))&(sales_lag['artnr']==int(article))]"
   ]
  },
  {
   "cell_type": "code",
   "execution_count": 9,
   "metadata": {},
   "outputs": [
    {
     "name": "stdout",
     "output_type": "stream",
     "text": [
      "2020-11-26 19:18:26,236 - kedro.io.data_catalog - INFO - Loading data from `pred_dates` (PickleDataSet)...\n"
     ]
    },
    {
     "name": "stderr",
     "output_type": "stream",
     "text": [
      "`should_run_async` will not call `transform_cell` automatically in the future. Please pass the result to `transformed_cell` argument and any exception that happen during thetransform in `preprocessing_exc_tuple` in IPython 7.17 and above.\n"
     ]
    }
   ],
   "source": [
    "pred_dates = context.catalog.load('pred_dates')"
   ]
  },
  {
   "cell_type": "code",
   "execution_count": 8,
   "metadata": {},
   "outputs": [
    {
     "name": "stdout",
     "output_type": "stream",
     "text": [
      "2020-12-25 19:44:14,868 - kedro.io.data_catalog - INFO - Loading data from `salesdata` (CSVDataSet)...\n"
     ]
    }
   ],
   "source": [
    "salesdata = context.catalog.load('salesdata')"
   ]
  },
  {
   "cell_type": "code",
   "execution_count": 5,
   "metadata": {},
   "outputs": [
    {
     "data": {
      "text/html": [
       "<div>\n",
       "<style scoped>\n",
       "    .dataframe tbody tr th:only-of-type {\n",
       "        vertical-align: middle;\n",
       "    }\n",
       "\n",
       "    .dataframe tbody tr th {\n",
       "        vertical-align: top;\n",
       "    }\n",
       "\n",
       "    .dataframe thead th {\n",
       "        text-align: right;\n",
       "    }\n",
       "</style>\n",
       "<table border=\"1\" class=\"dataframe\">\n",
       "  <thead>\n",
       "    <tr style=\"text-align: right;\">\n",
       "      <th></th>\n",
       "      <th>amount</th>\n",
       "      <th>artnr</th>\n",
       "      <th>date</th>\n",
       "      <th>discount</th>\n",
       "      <th>filnr</th>\n",
       "      <th>id</th>\n",
       "      <th>prediction</th>\n",
       "    </tr>\n",
       "  </thead>\n",
       "  <tbody>\n",
       "    <tr>\n",
       "      <th>0</th>\n",
       "      <td>NaN</td>\n",
       "      <td>101</td>\n",
       "      <td>2019-04-23</td>\n",
       "      <td>8</td>\n",
       "      <td>2</td>\n",
       "      <td>446801</td>\n",
       "      <td>NaN</td>\n",
       "    </tr>\n",
       "    <tr>\n",
       "      <th>1</th>\n",
       "      <td>NaN</td>\n",
       "      <td>109</td>\n",
       "      <td>2019-04-23</td>\n",
       "      <td>0</td>\n",
       "      <td>2</td>\n",
       "      <td>446802</td>\n",
       "      <td>NaN</td>\n",
       "    </tr>\n",
       "    <tr>\n",
       "      <th>2</th>\n",
       "      <td>NaN</td>\n",
       "      <td>110</td>\n",
       "      <td>2019-04-23</td>\n",
       "      <td>0</td>\n",
       "      <td>2</td>\n",
       "      <td>446803</td>\n",
       "      <td>NaN</td>\n",
       "    </tr>\n",
       "    <tr>\n",
       "      <th>3</th>\n",
       "      <td>NaN</td>\n",
       "      <td>115</td>\n",
       "      <td>2019-04-23</td>\n",
       "      <td>0</td>\n",
       "      <td>2</td>\n",
       "      <td>446804</td>\n",
       "      <td>NaN</td>\n",
       "    </tr>\n",
       "    <tr>\n",
       "      <th>4</th>\n",
       "      <td>NaN</td>\n",
       "      <td>211</td>\n",
       "      <td>2019-04-23</td>\n",
       "      <td>0</td>\n",
       "      <td>2</td>\n",
       "      <td>446805</td>\n",
       "      <td>NaN</td>\n",
       "    </tr>\n",
       "  </tbody>\n",
       "</table>\n",
       "</div>"
      ],
      "text/plain": [
       "   amount  artnr        date  discount  filnr      id  prediction\n",
       "0     NaN    101  2019-04-23         8      2  446801         NaN\n",
       "1     NaN    109  2019-04-23         0      2  446802         NaN\n",
       "2     NaN    110  2019-04-23         0      2  446803         NaN\n",
       "3     NaN    115  2019-04-23         0      2  446804         NaN\n",
       "4     NaN    211  2019-04-23         0      2  446805         NaN"
      ]
     },
     "execution_count": 5,
     "metadata": {},
     "output_type": "execute_result"
    }
   ],
   "source": [
    "salesdata.head()"
   ]
  },
  {
   "cell_type": "code",
   "execution_count": 12,
   "metadata": {},
   "outputs": [
    {
     "name": "stderr",
     "output_type": "stream",
     "text": [
      "`should_run_async` will not call `transform_cell` automatically in the future. Please pass the result to `transformed_cell` argument and any exception that happen during thetransform in `preprocessing_exc_tuple` in IPython 7.17 and above.\n"
     ]
    },
    {
     "data": {
      "text/plain": [
       "50"
      ]
     },
     "execution_count": 12,
     "metadata": {},
     "output_type": "execute_result"
    }
   ],
   "source": [
    "len(salesdata[salesdata.filnr==10])"
   ]
  },
  {
   "cell_type": "code",
   "execution_count": 164,
   "metadata": {},
   "outputs": [],
   "source": [
    "# for filiale in salesdata.filnr.unique():\n",
    "#    for article in salesdata.artnr.unique():\n"
   ]
  },
  {
   "cell_type": "code",
   "execution_count": 23,
   "metadata": {},
   "outputs": [
    {
     "name": "stdout",
     "output_type": "stream",
     "text": [
      "2020-12-26 16:16:59,653 - kedro.io.data_catalog - INFO - Loading data from `preddict` (PickleDataSet)...\n",
      "2020-12-26 16:17:00,780 - kedro.io.data_catalog - INFO - Loading data from `seo_frame` (CSVDataSet)...\n",
      "2020-12-26 16:17:00,898 - kedro.io.data_catalog - INFO - Loading data from `regressordict` (PickleDataSet)...\n"
     ]
    }
   ],
   "source": [
    "preddict = context.catalog.load('preddict')\n",
    "seo_frame = context.catalog.load('seo_frame')\n",
    "regressordict = context.catalog.load('regressordict')"
   ]
  },
  {
   "cell_type": "code",
   "execution_count": 26,
   "metadata": {},
   "outputs": [
    {
     "data": {
      "text/html": [
       "<div>\n",
       "<style scoped>\n",
       "    .dataframe tbody tr th:only-of-type {\n",
       "        vertical-align: middle;\n",
       "    }\n",
       "\n",
       "    .dataframe tbody tr th {\n",
       "        vertical-align: top;\n",
       "    }\n",
       "\n",
       "    .dataframe thead th {\n",
       "        text-align: right;\n",
       "    }\n",
       "</style>\n",
       "<table border=\"1\" class=\"dataframe\">\n",
       "  <thead>\n",
       "    <tr style=\"text-align: right;\">\n",
       "      <th></th>\n",
       "      <th>id</th>\n",
       "      <th>filnr</th>\n",
       "      <th>artnr</th>\n",
       "      <th>date</th>\n",
       "      <th>prediction</th>\n",
       "      <th>base_value</th>\n",
       "      <th>dayspecific</th>\n",
       "      <th>weather</th>\n",
       "      <th>lastmonth</th>\n",
       "      <th>safetystock</th>\n",
       "    </tr>\n",
       "  </thead>\n",
       "  <tbody>\n",
       "    <tr>\n",
       "      <th>0</th>\n",
       "      <td>446801</td>\n",
       "      <td>2</td>\n",
       "      <td>101</td>\n",
       "      <td>2019-04-23</td>\n",
       "      <td>122.0</td>\n",
       "      <td>187</td>\n",
       "      <td>-58</td>\n",
       "      <td>4</td>\n",
       "      <td>-11</td>\n",
       "      <td>114</td>\n",
       "    </tr>\n",
       "    <tr>\n",
       "      <th>1</th>\n",
       "      <td>447201</td>\n",
       "      <td>2</td>\n",
       "      <td>101</td>\n",
       "      <td>2019-04-24</td>\n",
       "      <td>95.0</td>\n",
       "      <td>187</td>\n",
       "      <td>-60</td>\n",
       "      <td>5</td>\n",
       "      <td>-36</td>\n",
       "      <td>89</td>\n",
       "    </tr>\n",
       "    <tr>\n",
       "      <th>2</th>\n",
       "      <td>447601</td>\n",
       "      <td>2</td>\n",
       "      <td>101</td>\n",
       "      <td>2019-04-25</td>\n",
       "      <td>108.0</td>\n",
       "      <td>187</td>\n",
       "      <td>-61</td>\n",
       "      <td>5</td>\n",
       "      <td>-23</td>\n",
       "      <td>101</td>\n",
       "    </tr>\n",
       "    <tr>\n",
       "      <th>3</th>\n",
       "      <td>448001</td>\n",
       "      <td>2</td>\n",
       "      <td>101</td>\n",
       "      <td>2019-04-26</td>\n",
       "      <td>125.0</td>\n",
       "      <td>187</td>\n",
       "      <td>-47</td>\n",
       "      <td>2</td>\n",
       "      <td>-18</td>\n",
       "      <td>117</td>\n",
       "    </tr>\n",
       "    <tr>\n",
       "      <th>4</th>\n",
       "      <td>448401</td>\n",
       "      <td>2</td>\n",
       "      <td>101</td>\n",
       "      <td>2019-04-27</td>\n",
       "      <td>186.0</td>\n",
       "      <td>187</td>\n",
       "      <td>7</td>\n",
       "      <td>2</td>\n",
       "      <td>-9</td>\n",
       "      <td>174</td>\n",
       "    </tr>\n",
       "    <tr>\n",
       "      <th>...</th>\n",
       "      <td>...</td>\n",
       "      <td>...</td>\n",
       "      <td>...</td>\n",
       "      <td>...</td>\n",
       "      <td>...</td>\n",
       "      <td>...</td>\n",
       "      <td>...</td>\n",
       "      <td>...</td>\n",
       "      <td>...</td>\n",
       "      <td>...</td>\n",
       "    </tr>\n",
       "    <tr>\n",
       "      <th>1945</th>\n",
       "      <td>447200</td>\n",
       "      <td>71</td>\n",
       "      <td>626</td>\n",
       "      <td>2019-04-23</td>\n",
       "      <td>20.0</td>\n",
       "      <td>18</td>\n",
       "      <td>3</td>\n",
       "      <td>1</td>\n",
       "      <td>-2</td>\n",
       "      <td>17</td>\n",
       "    </tr>\n",
       "    <tr>\n",
       "      <th>1946</th>\n",
       "      <td>447600</td>\n",
       "      <td>71</td>\n",
       "      <td>626</td>\n",
       "      <td>2019-04-24</td>\n",
       "      <td>27.0</td>\n",
       "      <td>18</td>\n",
       "      <td>5</td>\n",
       "      <td>2</td>\n",
       "      <td>2</td>\n",
       "      <td>23</td>\n",
       "    </tr>\n",
       "    <tr>\n",
       "      <th>1947</th>\n",
       "      <td>448000</td>\n",
       "      <td>71</td>\n",
       "      <td>626</td>\n",
       "      <td>2019-04-25</td>\n",
       "      <td>23.0</td>\n",
       "      <td>18</td>\n",
       "      <td>4</td>\n",
       "      <td>1</td>\n",
       "      <td>0</td>\n",
       "      <td>20</td>\n",
       "    </tr>\n",
       "    <tr>\n",
       "      <th>1948</th>\n",
       "      <td>448400</td>\n",
       "      <td>71</td>\n",
       "      <td>626</td>\n",
       "      <td>2019-04-26</td>\n",
       "      <td>23.0</td>\n",
       "      <td>18</td>\n",
       "      <td>4</td>\n",
       "      <td>0</td>\n",
       "      <td>1</td>\n",
       "      <td>20</td>\n",
       "    </tr>\n",
       "    <tr>\n",
       "      <th>1949</th>\n",
       "      <td>448800</td>\n",
       "      <td>71</td>\n",
       "      <td>626</td>\n",
       "      <td>2019-04-27</td>\n",
       "      <td>0.0</td>\n",
       "      <td>18</td>\n",
       "      <td>-13</td>\n",
       "      <td>0</td>\n",
       "      <td>-4</td>\n",
       "      <td>0</td>\n",
       "    </tr>\n",
       "  </tbody>\n",
       "</table>\n",
       "<p>1950 rows × 10 columns</p>\n",
       "</div>"
      ],
      "text/plain": [
       "          id  filnr  artnr        date  prediction  base_value  dayspecific  \\\n",
       "0     446801      2    101  2019-04-23       122.0         187          -58   \n",
       "1     447201      2    101  2019-04-24        95.0         187          -60   \n",
       "2     447601      2    101  2019-04-25       108.0         187          -61   \n",
       "3     448001      2    101  2019-04-26       125.0         187          -47   \n",
       "4     448401      2    101  2019-04-27       186.0         187            7   \n",
       "...      ...    ...    ...         ...         ...         ...          ...   \n",
       "1945  447200     71    626  2019-04-23        20.0          18            3   \n",
       "1946  447600     71    626  2019-04-24        27.0          18            5   \n",
       "1947  448000     71    626  2019-04-25        23.0          18            4   \n",
       "1948  448400     71    626  2019-04-26        23.0          18            4   \n",
       "1949  448800     71    626  2019-04-27         0.0          18          -13   \n",
       "\n",
       "      weather  lastmonth  safetystock  \n",
       "0           4        -11          114  \n",
       "1           5        -36           89  \n",
       "2           5        -23          101  \n",
       "3           2        -18          117  \n",
       "4           2         -9          174  \n",
       "...       ...        ...          ...  \n",
       "1945        1         -2           17  \n",
       "1946        2          2           23  \n",
       "1947        1          0           20  \n",
       "1948        0          1           20  \n",
       "1949        0         -4            0  \n",
       "\n",
       "[1950 rows x 10 columns]"
      ]
     },
     "execution_count": 26,
     "metadata": {},
     "output_type": "execute_result"
    }
   ],
   "source": [
    "postframe"
   ]
  },
  {
   "cell_type": "code",
   "execution_count": 37,
   "metadata": {},
   "outputs": [],
   "source": [
    "import numpy as np\n",
    "import pandas as pd"
   ]
  },
  {
   "cell_type": "code",
   "execution_count": 42,
   "metadata": {},
   "outputs": [
    {
     "data": {
      "text/plain": [
       "\"['2' '3' '4' '5' '14' '17' '18' '19' '20' '21' '22' '23' '24' '25' '26'\\n '27' '28' '29' '30' '31' '32' '33' '34' '35' '36' '37' '38' '40' '41'\\n '43' '44' '45' '46' '47' '48' '49' '50' '70' '71']\""
      ]
     },
     "execution_count": 42,
     "metadata": {},
     "output_type": "execute_result"
    }
   ],
   "source": [
    "np.str(pd.Series(preddict.keys()).unique())"
   ]
  },
  {
   "cell_type": "code",
   "execution_count": 27,
   "metadata": {},
   "outputs": [
    {
     "name": "stderr",
     "output_type": "stream",
     "text": [
      "`should_run_async` will not call `transform_cell` automatically in the future. Please pass the result to `transformed_cell` argument and any exception that happen during thetransform in `preprocessing_exc_tuple` in IPython 7.17 and above.\n"
     ]
    },
    {
     "data": {
      "text/plain": [
       "39.48974358974359"
      ]
     },
     "execution_count": 27,
     "metadata": {},
     "output_type": "execute_result"
    }
   ],
   "source": [
    "postframe.prediction.mean()"
   ]
  },
  {
   "cell_type": "code",
   "execution_count": 28,
   "metadata": {},
   "outputs": [
    {
     "data": {
      "text/plain": [
       "33.02820512820513"
      ]
     },
     "execution_count": 28,
     "metadata": {},
     "output_type": "execute_result"
    }
   ],
   "source": [
    "postframe.safetystock.mean()"
   ]
  },
  {
   "cell_type": "code",
   "execution_count": 25,
   "metadata": {},
   "outputs": [
    {
     "name": "stdout",
     "output_type": "stream",
     "text": [
      "2020-12-26 16:17:15,410 - kedro.io.data_catalog - INFO - Loading data from `postframe` (CSVDataSet)...\n"
     ]
    },
    {
     "name": "stderr",
     "output_type": "stream",
     "text": [
      "`should_run_async` will not call `transform_cell` automatically in the future. Please pass the result to `transformed_cell` argument and any exception that happen during thetransform in `preprocessing_exc_tuple` in IPython 7.17 and above.\n"
     ]
    }
   ],
   "source": [
    "postframe = context.catalog.load('postframe')"
   ]
  },
  {
   "cell_type": "markdown",
   "metadata": {},
   "source": [
    "# Lag Data"
   ]
  },
  {
   "cell_type": "code",
   "execution_count": 61,
   "metadata": {},
   "outputs": [
    {
     "name": "stderr",
     "output_type": "stream",
     "text": [
      "/home/lukas/pjs/operativelogik/oplogik/lib/python3.8/site-packages/ipykernel/ipkernel.py:287: DeprecationWarning: `should_run_async` will not call `transform_cell` automatically in the future. Please pass the result to `transformed_cell` argument and any exception that happen during thetransform in `preprocessing_exc_tuple` in IPython 7.17 and above.\n",
      "  and should_run_async(code)\n"
     ]
    }
   ],
   "source": [
    "import asyncio\n",
    "import aiohttp\n",
    "import nest_asyncio\n",
    "nest_asyncio.apply()"
   ]
  },
  {
   "cell_type": "code",
   "execution_count": 46,
   "metadata": {},
   "outputs": [],
   "source": [
    "# Input: pred_dates --> start und ende\n",
    "api_length = 400"
   ]
  },
  {
   "cell_type": "code",
   "execution_count": 45,
   "metadata": {},
   "outputs": [
    {
     "data": {
      "text/plain": [
       "Timestamp('2019-04-24 00:00:00')"
      ]
     },
     "execution_count": 45,
     "metadata": {},
     "output_type": "execute_result"
    }
   ],
   "source": [
    "pred_dates.iloc[0]#.reset_index()"
   ]
  },
  {
   "cell_type": "code",
   "execution_count": 40,
   "metadata": {},
   "outputs": [
    {
     "data": {
      "text/plain": [
       "Timestamp('2019-04-23 00:00:00')"
      ]
     },
     "execution_count": 40,
     "metadata": {},
     "output_type": "execute_result"
    }
   ],
   "source": [
    "pred_dates.pop(0)"
   ]
  },
  {
   "cell_type": "code",
   "execution_count": 77,
   "metadata": {},
   "outputs": [],
   "source": [
    "ende = str(max(pred_dates) - datetime. timedelta(min(parameters['lags_used'])))[:-9]"
   ]
  },
  {
   "cell_type": "code",
   "execution_count": 35,
   "metadata": {},
   "outputs": [],
   "source": [
    "start = str(min(pred_dates) - datetime. timedelta(max(parameters['lags_used'])))[:-9]\n",
    "ende = str(max(pred_dates) - datetime. timedelta(min(parameters['lags_used'])))[:-9]\n",
    "URL = 'http://35.234.103.119/api/sales/amount?dateFrom=' + start + '&dateTo=' + ende + '&pageSize=' + str(api_length) + '&page='"
   ]
  },
  {
   "cell_type": "code",
   "execution_count": 97,
   "metadata": {},
   "outputs": [
    {
     "name": "stdout",
     "output_type": "stream",
     "text": [
      "http://35.234.103.119/api/sales/amount?dateFrom=2019-03-27&dateTo=2019-04-23&pageSize=400&page=\n"
     ]
    },
    {
     "name": "stderr",
     "output_type": "stream",
     "text": [
      "/home/lukas/pjs/operativelogik/oplogik/lib/python3.8/site-packages/ipykernel/ipkernel.py:287: DeprecationWarning: `should_run_async` will not call `transform_cell` automatically in the future. Please pass the result to `transformed_cell` argument and any exception that happen during thetransform in `preprocessing_exc_tuple` in IPython 7.17 and above.\n",
      "  and should_run_async(code)\n"
     ]
    }
   ],
   "source": [
    "start = str(min(pred_dates) - datetime. timedelta(max(parameters['lags_used'])))[:-9]\n",
    "ende = str(max(pred_dates) - datetime. timedelta(min(parameters['lags_used'])))[:-9]\n",
    "URL = 'http://35.234.103.119/api/sales/amount?dateFrom=' + start + '&dateTo=' + ende + '&pageSize=' + str(api_length) + '&page='\n",
    "print(URL)"
   ]
  },
  {
   "cell_type": "code",
   "execution_count": 102,
   "metadata": {},
   "outputs": [
    {
     "data": {
      "text/plain": [
       "11200"
      ]
     },
     "execution_count": 102,
     "metadata": {},
     "output_type": "execute_result"
    }
   ],
   "source": [
    "400*28"
   ]
  },
  {
   "cell_type": "code",
   "execution_count": 104,
   "metadata": {},
   "outputs": [
    {
     "name": "stderr",
     "output_type": "stream",
     "text": [
      "/home/lukas/pjs/operativelogik/oplogik/lib/python3.8/site-packages/ipykernel/ipkernel.py:287: DeprecationWarning: `should_run_async` will not call `transform_cell` automatically in the future. Please pass the result to `transformed_cell` argument and any exception that happen during thetransform in `preprocessing_exc_tuple` in IPython 7.17 and above.\n",
      "  and should_run_async(code)\n"
     ]
    },
    {
     "data": {
      "text/plain": [
       "array([ 2,  3,  4,  5, 10, 14, 17, 18, 19, 20, 21, 22, 23, 24, 25, 26, 27,\n",
       "       28, 29, 30, 31, 32, 33, 34, 35, 36, 37, 38, 40, 41, 43, 44, 45, 46,\n",
       "       47, 48, 49, 50, 70, 71])"
      ]
     },
     "execution_count": 104,
     "metadata": {},
     "output_type": "execute_result"
    }
   ],
   "source": [
    "df_hist['filnr'].unique()"
   ]
  },
  {
   "cell_type": "code",
   "execution_count": 81,
   "metadata": {},
   "outputs": [],
   "source": [
    "def laggetter(pred_dates, api_length):\n",
    "    start = str(min(pred_dates) - datetime. timedelta(max(parameters['lags_used'])))[:-9]\n",
    "    ende = str(max(pred_dates) - datetime. timedelta(min(parameters['lags_used'])))[:-9]\n",
    "    URL = 'http://35.234.103.119/api/sales/amount?dateFrom=' + start + '&dateTo=' + ende + '&pageSize=' + str(api_length) + '&page='\n",
    "    print(URL)\n",
    "    pages = range(1, max(parameters['lags_used'])+1)\n",
    "    list_df = func(URL, pages)\n",
    "    df = pd.concat(list(pd.Series(list_df).apply(lambda x: pd.json_normalize(x))))    \n",
    "    df = df.iloc[pd.to_datetime(df.date).values.argsort()].reset_index(drop=True)\n",
    "    return df"
   ]
  },
  {
   "cell_type": "code",
   "execution_count": 48,
   "metadata": {},
   "outputs": [],
   "source": [
    "async def fetch(session, url):\n",
    "    async with session.get(url) as response:\n",
    "        json_response = await response.json()\n",
    "        return json_response\n",
    "\n",
    "async def main(URL, pages):\n",
    "    async with aiohttp.ClientSession() as session:\n",
    "        tasks = [fetch(session, (URL+str(i))) for i in pages]\n",
    "        responses = await asyncio.gather(*tasks)\n",
    "        return responses\n",
    "\n",
    "def func(URL, pages):\n",
    "    responses = asyncio.run(main(URL, pages))\n",
    "    return responses"
   ]
  },
  {
   "cell_type": "code",
   "execution_count": 82,
   "metadata": {},
   "outputs": [
    {
     "name": "stdout",
     "output_type": "stream",
     "text": [
      "http://35.234.103.119/api/sales/amount?dateFrom=2019-03-27&dateTo=2019-04-23&pageSize=400&page=\n"
     ]
    }
   ],
   "source": [
    "df = laggetter(pred_dates, api_length)"
   ]
  },
  {
   "cell_type": "code",
   "execution_count": 45,
   "metadata": {},
   "outputs": [
    {
     "name": "stderr",
     "output_type": "stream",
     "text": [
      "/home/lukas/pjs/operativelogik/oplogik/lib/python3.8/site-packages/ipykernel/ipkernel.py:287: DeprecationWarning: `should_run_async` will not call `transform_cell` automatically in the future. Please pass the result to `transformed_cell` argument and any exception that happen during thetransform in `preprocessing_exc_tuple` in IPython 7.17 and above.\n",
      "  and should_run_async(code)\n"
     ]
    },
    {
     "data": {
      "text/plain": [
       "array([ 68,   0, 138, 653, 653, 273,  97])"
      ]
     },
     "execution_count": 45,
     "metadata": {},
     "output_type": "execute_result"
    }
   ],
   "source": [
    "sales_lag[(sales_lag['filnr']==int(filiale))&(sales_lag['artnr']==int(article))].iloc[-lag:]['amount'].values"
   ]
  },
  {
   "cell_type": "code",
   "execution_count": 48,
   "metadata": {},
   "outputs": [
    {
     "name": "stderr",
     "output_type": "stream",
     "text": [
      "/home/lukas/pjs/operativelogik/oplogik/lib/python3.8/site-packages/ipykernel/ipkernel.py:287: DeprecationWarning: `should_run_async` will not call `transform_cell` automatically in the future. Please pass the result to `transformed_cell` argument and any exception that happen during thetransform in `preprocessing_exc_tuple` in IPython 7.17 and above.\n",
      "  and should_run_async(code)\n"
     ]
    }
   ],
   "source": [
    "filfeaturedict[filiale][article]['lag_' + str(lag)] = sales_lag[(sales_lag['filnr']==int(filiale))&(sales_lag['artnr']==int(article))].iloc[-lag:]['amount'].values"
   ]
  },
  {
   "cell_type": "code",
   "execution_count": 38,
   "metadata": {},
   "outputs": [
    {
     "name": "stderr",
     "output_type": "stream",
     "text": [
      "/home/lukas/pjs/operativelogik/oplogik/lib/python3.8/site-packages/ipykernel/ipkernel.py:287: DeprecationWarning: `should_run_async` will not call `transform_cell` automatically in the future. Please pass the result to `transformed_cell` argument and any exception that happen during thetransform in `preprocessing_exc_tuple` in IPython 7.17 and above.\n",
      "  and should_run_async(code)\n"
     ]
    }
   ],
   "source": [
    "filiale = '2'\n",
    "article = '101'\n",
    "lag = 7"
   ]
  },
  {
   "cell_type": "code",
   "execution_count": 62,
   "metadata": {},
   "outputs": [
    {
     "name": "stderr",
     "output_type": "stream",
     "text": [
      "/home/lukas/pjs/operativelogik/oplogik/lib/python3.8/site-packages/ipykernel/ipkernel.py:287: DeprecationWarning: `should_run_async` will not call `transform_cell` automatically in the future. Please pass the result to `transformed_cell` argument and any exception that happen during thetransform in `preprocessing_exc_tuple` in IPython 7.17 and above.\n",
      "  and should_run_async(code)\n"
     ]
    }
   ],
   "source": [
    "lagbase = None\n",
    "lagbase = -lag\n",
    "lag = 14"
   ]
  },
  {
   "cell_type": "code",
   "execution_count": 287,
   "metadata": {},
   "outputs": [
    {
     "data": {
      "text/plain": [
       "10400"
      ]
     },
     "execution_count": 287,
     "metadata": {},
     "output_type": "execute_result"
    }
   ],
   "source": [
    "clipped = sales_lag.drop_duplicates(subset = ['id'])\n",
    "for filiale in clipped['filnr'].unique():\n",
    "    for article in clipped['artnr'].unique():\n",
    "        print(filiale, article, ' ', len(clipped[(clipped['filnr']==int(filiale))&(clipped['artnr']==int(article))]))"
   ]
  },
  {
   "cell_type": "code",
   "execution_count": 63,
   "metadata": {},
   "outputs": [
    {
     "data": {
      "text/plain": [
       "array([ 90,  72,  68, 114, 306,  61,  95])"
      ]
     },
     "execution_count": 63,
     "metadata": {},
     "output_type": "execute_result"
    }
   ],
   "source": [
    "sales_lag[(sales_lag['filnr']==int(filiale))&(sales_lag['artnr']==int(article))].iloc[-lag:lagbase]['amount'].values"
   ]
  },
  {
   "cell_type": "code",
   "execution_count": 79,
   "metadata": {},
   "outputs": [],
   "source": [
    "start = str(min(pred_dates) - datetime. timedelta(28))[:-9]"
   ]
  },
  {
   "cell_type": "code",
   "execution_count": 11,
   "metadata": {},
   "outputs": [
    {
     "name": "stderr",
     "output_type": "stream",
     "text": [
      "/home/lukas/pjs/operativelogik/oplogik/lib/python3.8/site-packages/ipykernel/ipkernel.py:287: DeprecationWarning: `should_run_async` will not call `transform_cell` automatically in the future. Please pass the result to `transformed_cell` argument and any exception that happen during thetransform in `preprocessing_exc_tuple` in IPython 7.17 and above.\n",
      "  and should_run_async(code)\n"
     ]
    },
    {
     "data": {
      "text/html": [
       "<div>\n",
       "<style scoped>\n",
       "    .dataframe tbody tr th:only-of-type {\n",
       "        vertical-align: middle;\n",
       "    }\n",
       "\n",
       "    .dataframe tbody tr th {\n",
       "        vertical-align: top;\n",
       "    }\n",
       "\n",
       "    .dataframe thead th {\n",
       "        text-align: right;\n",
       "    }\n",
       "</style>\n",
       "<table border=\"1\" class=\"dataframe\">\n",
       "  <thead>\n",
       "    <tr style=\"text-align: right;\">\n",
       "      <th></th>\n",
       "      <th>amount</th>\n",
       "      <th>artnr</th>\n",
       "      <th>date</th>\n",
       "      <th>filnr</th>\n",
       "      <th>id</th>\n",
       "    </tr>\n",
       "  </thead>\n",
       "  <tbody>\n",
       "    <tr>\n",
       "      <th>0</th>\n",
       "      <td>77</td>\n",
       "      <td>101</td>\n",
       "      <td>2019-03-27</td>\n",
       "      <td>2</td>\n",
       "      <td>436001</td>\n",
       "    </tr>\n",
       "    <tr>\n",
       "      <th>1</th>\n",
       "      <td>35</td>\n",
       "      <td>109</td>\n",
       "      <td>2019-03-27</td>\n",
       "      <td>2</td>\n",
       "      <td>436002</td>\n",
       "    </tr>\n",
       "    <tr>\n",
       "      <th>2</th>\n",
       "      <td>74</td>\n",
       "      <td>110</td>\n",
       "      <td>2019-03-27</td>\n",
       "      <td>2</td>\n",
       "      <td>436003</td>\n",
       "    </tr>\n",
       "    <tr>\n",
       "      <th>3</th>\n",
       "      <td>0</td>\n",
       "      <td>115</td>\n",
       "      <td>2019-03-27</td>\n",
       "      <td>2</td>\n",
       "      <td>436004</td>\n",
       "    </tr>\n",
       "    <tr>\n",
       "      <th>4</th>\n",
       "      <td>4</td>\n",
       "      <td>211</td>\n",
       "      <td>2019-03-27</td>\n",
       "      <td>2</td>\n",
       "      <td>436005</td>\n",
       "    </tr>\n",
       "    <tr>\n",
       "      <th>...</th>\n",
       "      <td>...</td>\n",
       "      <td>...</td>\n",
       "      <td>...</td>\n",
       "      <td>...</td>\n",
       "      <td>...</td>\n",
       "    </tr>\n",
       "    <tr>\n",
       "      <th>11195</th>\n",
       "      <td>0</td>\n",
       "      <td>101</td>\n",
       "      <td>2019-03-30</td>\n",
       "      <td>10</td>\n",
       "      <td>437241</td>\n",
       "    </tr>\n",
       "    <tr>\n",
       "      <th>11196</th>\n",
       "      <td>0</td>\n",
       "      <td>109</td>\n",
       "      <td>2019-03-30</td>\n",
       "      <td>10</td>\n",
       "      <td>437242</td>\n",
       "    </tr>\n",
       "    <tr>\n",
       "      <th>11197</th>\n",
       "      <td>0</td>\n",
       "      <td>110</td>\n",
       "      <td>2019-03-30</td>\n",
       "      <td>10</td>\n",
       "      <td>437243</td>\n",
       "    </tr>\n",
       "    <tr>\n",
       "      <th>11198</th>\n",
       "      <td>0</td>\n",
       "      <td>115</td>\n",
       "      <td>2019-03-30</td>\n",
       "      <td>10</td>\n",
       "      <td>437244</td>\n",
       "    </tr>\n",
       "    <tr>\n",
       "      <th>11199</th>\n",
       "      <td>0</td>\n",
       "      <td>211</td>\n",
       "      <td>2019-03-30</td>\n",
       "      <td>10</td>\n",
       "      <td>437245</td>\n",
       "    </tr>\n",
       "  </tbody>\n",
       "</table>\n",
       "<p>11200 rows × 5 columns</p>\n",
       "</div>"
      ],
      "text/plain": [
       "       amount  artnr        date  filnr      id\n",
       "0          77    101  2019-03-27      2  436001\n",
       "1          35    109  2019-03-27      2  436002\n",
       "2          74    110  2019-03-27      2  436003\n",
       "3           0    115  2019-03-27      2  436004\n",
       "4           4    211  2019-03-27      2  436005\n",
       "...       ...    ...         ...    ...     ...\n",
       "11195       0    101  2019-03-30     10  437241\n",
       "11196       0    109  2019-03-30     10  437242\n",
       "11197       0    110  2019-03-30     10  437243\n",
       "11198       0    115  2019-03-30     10  437244\n",
       "11199       0    211  2019-03-30     10  437245\n",
       "\n",
       "[11200 rows x 5 columns]"
      ]
     },
     "execution_count": 11,
     "metadata": {},
     "output_type": "execute_result"
    }
   ],
   "source": [
    "'/sales/amount?dateFrom=' + start + '&dateTo=' + ende + '&pageSize=' + str(api_length) + '&page='"
   ]
  },
  {
   "cell_type": "code",
   "execution_count": 2,
   "metadata": {},
   "outputs": [
    {
     "name": "stderr",
     "output_type": "stream",
     "text": [
      "/home/lukas/pjs/operativelogik/oplogik/lib/python3.8/site-packages/ipykernel/ipkernel.py:287: DeprecationWarning: `should_run_async` will not call `transform_cell` automatically in the future. Please pass the result to `transformed_cell` argument and any exception that happen during thetransform in `preprocessing_exc_tuple` in IPython 7.17 and above.\n",
      "  and should_run_async(code)\n"
     ]
    }
   ],
   "source": [
    "URL = 'http://35.234.103.119/api/sales/amount?dateFrom=%222018-3-20%22&dateTo=%222018-3-22%22'"
   ]
  },
  {
   "cell_type": "code",
   "execution_count": null,
   "metadata": {},
   "outputs": [],
   "source": [
    "featureadder(fildict: Dict, filialdata, fdict, weatherdict, parameters: Dict)"
   ]
  },
  {
   "cell_type": "code",
   "execution_count": 88,
   "metadata": {},
   "outputs": [
    {
     "name": "stdout",
     "output_type": "stream",
     "text": [
      "2020-11-17 09:26:04,107 - kedro.io.data_catalog - INFO - Loading data from `basedict` (PickleDataSet)...\n",
      "2020-11-17 09:26:04,452 - kedro.io.data_catalog - INFO - Loading data from `filialdata` (CSVDataSet)...\n",
      "2020-11-17 09:26:04,483 - kedro.io.data_catalog - INFO - Loading data from `fdict` (PickleDataSet)...\n",
      "2020-11-17 09:26:04,514 - kedro.io.data_catalog - INFO - Loading data from `parameters` (MemoryDataSet)...\n",
      "2020-11-17 09:26:04,540 - kedro.io.data_catalog - INFO - Loading data from `weatherdict` (PickleDataSet)...\n"
     ]
    }
   ],
   "source": [
    "basedict = context.catalog.load('basedict')\n",
    "filialdata = context.catalog.load('filialdata')\n",
    "fdict = context.catalog.load('fdict')\n",
    "parameters = context.catalog.load('parameters')\n",
    "weatherdict = context.catalog.load('weatherdict')"
   ]
  },
  {
   "cell_type": "code",
   "execution_count": 91,
   "metadata": {},
   "outputs": [
    {
     "name": "stderr",
     "output_type": "stream",
     "text": [
      "/home/lukas/pjs/operativelogik/oplogik/lib/python3.8/site-packages/ipykernel/ipkernel.py:287: DeprecationWarning: `should_run_async` will not call `transform_cell` automatically in the future. Please pass the result to `transformed_cell` argument and any exception that happen during thetransform in `preprocessing_exc_tuple` in IPython 7.17 and above.\n",
      "  and should_run_async(code)\n"
     ]
    },
    {
     "data": {
      "text/html": [
       "<div>\n",
       "<style scoped>\n",
       "    .dataframe tbody tr th:only-of-type {\n",
       "        vertical-align: middle;\n",
       "    }\n",
       "\n",
       "    .dataframe tbody tr th {\n",
       "        vertical-align: top;\n",
       "    }\n",
       "\n",
       "    .dataframe thead th {\n",
       "        text-align: right;\n",
       "    }\n",
       "</style>\n",
       "<table border=\"1\" class=\"dataframe\">\n",
       "  <thead>\n",
       "    <tr style=\"text-align: right;\">\n",
       "      <th></th>\n",
       "      <th>amount</th>\n",
       "      <th>date</th>\n",
       "      <th>discount</th>\n",
       "      <th>id</th>\n",
       "      <th>prediction</th>\n",
       "      <th>wochentag</th>\n",
       "      <th>monat</th>\n",
       "    </tr>\n",
       "  </thead>\n",
       "  <tbody>\n",
       "    <tr>\n",
       "      <th>0</th>\n",
       "      <td>NaN</td>\n",
       "      <td>2019-04-24</td>\n",
       "      <td>8</td>\n",
       "      <td>447201</td>\n",
       "      <td>NaN</td>\n",
       "      <td>2</td>\n",
       "      <td>4</td>\n",
       "    </tr>\n",
       "    <tr>\n",
       "      <th>400</th>\n",
       "      <td>NaN</td>\n",
       "      <td>2019-04-25</td>\n",
       "      <td>0</td>\n",
       "      <td>447601</td>\n",
       "      <td>NaN</td>\n",
       "      <td>3</td>\n",
       "      <td>4</td>\n",
       "    </tr>\n",
       "    <tr>\n",
       "      <th>800</th>\n",
       "      <td>NaN</td>\n",
       "      <td>2019-04-26</td>\n",
       "      <td>0</td>\n",
       "      <td>448001</td>\n",
       "      <td>NaN</td>\n",
       "      <td>4</td>\n",
       "      <td>4</td>\n",
       "    </tr>\n",
       "    <tr>\n",
       "      <th>1200</th>\n",
       "      <td>NaN</td>\n",
       "      <td>2019-04-27</td>\n",
       "      <td>0</td>\n",
       "      <td>448401</td>\n",
       "      <td>NaN</td>\n",
       "      <td>5</td>\n",
       "      <td>4</td>\n",
       "    </tr>\n",
       "    <tr>\n",
       "      <th>1600</th>\n",
       "      <td>NaN</td>\n",
       "      <td>2019-04-28</td>\n",
       "      <td>0</td>\n",
       "      <td>448801</td>\n",
       "      <td>NaN</td>\n",
       "      <td>6</td>\n",
       "      <td>4</td>\n",
       "    </tr>\n",
       "    <tr>\n",
       "      <th>2000</th>\n",
       "      <td>NaN</td>\n",
       "      <td>2019-04-29</td>\n",
       "      <td>0</td>\n",
       "      <td>449201</td>\n",
       "      <td>NaN</td>\n",
       "      <td>0</td>\n",
       "      <td>4</td>\n",
       "    </tr>\n",
       "    <tr>\n",
       "      <th>2400</th>\n",
       "      <td>NaN</td>\n",
       "      <td>2019-04-30</td>\n",
       "      <td>0</td>\n",
       "      <td>449601</td>\n",
       "      <td>NaN</td>\n",
       "      <td>1</td>\n",
       "      <td>4</td>\n",
       "    </tr>\n",
       "  </tbody>\n",
       "</table>\n",
       "</div>"
      ],
      "text/plain": [
       "      amount       date  discount      id  prediction  wochentag  monat\n",
       "0        NaN 2019-04-24         8  447201         NaN          2      4\n",
       "400      NaN 2019-04-25         0  447601         NaN          3      4\n",
       "800      NaN 2019-04-26         0  448001         NaN          4      4\n",
       "1200     NaN 2019-04-27         0  448401         NaN          5      4\n",
       "1600     NaN 2019-04-28         0  448801         NaN          6      4\n",
       "2000     NaN 2019-04-29         0  449201         NaN          0      4\n",
       "2400     NaN 2019-04-30         0  449601         NaN          1      4"
      ]
     },
     "execution_count": 91,
     "metadata": {},
     "output_type": "execute_result"
    }
   ],
   "source": [
    "basedict['2']['101']"
   ]
  },
  {
   "cell_type": "code",
   "execution_count": 85,
   "metadata": {},
   "outputs": [
    {
     "name": "stderr",
     "output_type": "stream",
     "text": [
      "/home/lukas/pjs/operativelogik/oplogik/lib/python3.8/site-packages/ipykernel/ipkernel.py:287: DeprecationWarning: `should_run_async` will not call `transform_cell` automatically in the future. Please pass the result to `transformed_cell` argument and any exception that happen during thetransform in `preprocessing_exc_tuple` in IPython 7.17 and above.\n",
      "  and should_run_async(code)\n"
     ]
    },
    {
     "ename": "NameError",
     "evalue": "name 'Dict' is not defined",
     "output_type": "error",
     "traceback": [
      "\u001b[0;31m---------------------------------------------------------------------------\u001b[0m",
      "\u001b[0;31mNameError\u001b[0m                                 Traceback (most recent call last)",
      "\u001b[0;32m<ipython-input-85-2c4ba8f2460c>\u001b[0m in \u001b[0;36m<module>\u001b[0;34m\u001b[0m\n\u001b[0;32m----> 1\u001b[0;31m \u001b[0;32mdef\u001b[0m \u001b[0mfeatureadder\u001b[0m\u001b[0;34m(\u001b[0m\u001b[0mfildict\u001b[0m\u001b[0;34m:\u001b[0m \u001b[0mDict\u001b[0m\u001b[0;34m,\u001b[0m \u001b[0mfilialdata\u001b[0m\u001b[0;34m,\u001b[0m \u001b[0mfdict\u001b[0m\u001b[0;34m,\u001b[0m \u001b[0mweatherdict\u001b[0m\u001b[0;34m,\u001b[0m \u001b[0mparameters\u001b[0m\u001b[0;34m:\u001b[0m \u001b[0mDict\u001b[0m\u001b[0;34m)\u001b[0m\u001b[0;34m:\u001b[0m\u001b[0;34m\u001b[0m\u001b[0;34m\u001b[0m\u001b[0m\n\u001b[0m\u001b[1;32m      2\u001b[0m     \u001b[0;31m#filialdata['number_store'] = pd.to_numeric(filialdata['number_store'])\u001b[0m\u001b[0;34m\u001b[0m\u001b[0;34m\u001b[0m\u001b[0;34m\u001b[0m\u001b[0m\n\u001b[1;32m      3\u001b[0m     \u001b[0mfilialdata\u001b[0m\u001b[0;34m.\u001b[0m\u001b[0mloc\u001b[0m\u001b[0;34m[\u001b[0m\u001b[0;34m:\u001b[0m\u001b[0;34m,\u001b[0m \u001b[0;34m'latlon'\u001b[0m\u001b[0;34m]\u001b[0m \u001b[0;34m=\u001b[0m \u001b[0mfilialdata\u001b[0m\u001b[0;34m.\u001b[0m\u001b[0mapply\u001b[0m\u001b[0;34m(\u001b[0m\u001b[0;32mlambda\u001b[0m \u001b[0mrow\u001b[0m\u001b[0;34m:\u001b[0m \u001b[0mstr\u001b[0m\u001b[0;34m(\u001b[0m\u001b[0mround\u001b[0m\u001b[0;34m(\u001b[0m\u001b[0mrow\u001b[0m\u001b[0;34m[\u001b[0m\u001b[0;34m'lat'\u001b[0m\u001b[0;34m]\u001b[0m\u001b[0;34m,\u001b[0m \u001b[0;36m2\u001b[0m\u001b[0;34m)\u001b[0m\u001b[0;34m)\u001b[0m \u001b[0;34m+\u001b[0m \u001b[0;34m','\u001b[0m \u001b[0;34m+\u001b[0m \u001b[0mstr\u001b[0m\u001b[0;34m(\u001b[0m\u001b[0mround\u001b[0m\u001b[0;34m(\u001b[0m\u001b[0mrow\u001b[0m\u001b[0;34m[\u001b[0m\u001b[0;34m'lon'\u001b[0m\u001b[0;34m]\u001b[0m\u001b[0;34m,\u001b[0m \u001b[0;36m2\u001b[0m\u001b[0;34m)\u001b[0m\u001b[0;34m)\u001b[0m\u001b[0;34m,\u001b[0m \u001b[0maxis\u001b[0m\u001b[0;34m=\u001b[0m\u001b[0;36m1\u001b[0m\u001b[0;34m)\u001b[0m\u001b[0;34m\u001b[0m\u001b[0;34m\u001b[0m\u001b[0m\n\u001b[1;32m      4\u001b[0m     \u001b[0mfeiertage\u001b[0m \u001b[0;34m=\u001b[0m \u001b[0mfdict\u001b[0m\u001b[0;34m[\u001b[0m\u001b[0;34m'feiertage'\u001b[0m\u001b[0;34m]\u001b[0m\u001b[0;34m\u001b[0m\u001b[0;34m\u001b[0m\u001b[0m\n\u001b[1;32m      5\u001b[0m     \u001b[0mferientage\u001b[0m \u001b[0;34m=\u001b[0m \u001b[0mfdict\u001b[0m\u001b[0;34m[\u001b[0m\u001b[0;34m'ferientage'\u001b[0m\u001b[0;34m]\u001b[0m\u001b[0;34m\u001b[0m\u001b[0;34m\u001b[0m\u001b[0m\n",
      "\u001b[0;31mNameError\u001b[0m: name 'Dict' is not defined"
     ]
    }
   ],
   "source": [
    "def featureadder(basedict, filialdata, fdict, weatherdict, parameters, df_hist):\n",
    "    #filialdata['number_store'] = pd.to_numeric(filialdata['number_store'])\n",
    "    filialdata.loc[:, 'latlon'] = filialdata.apply(lambda row: str(round(row['lat'], 2)) + ',' + str(round(row['lon'], 2)), axis=1)\n",
    "    feiertage = fdict['feiertage']\n",
    "    ferientage = fdict['ferientage']\n",
    "    for filiale in fildict.keys():\n",
    "        bundesland = filialdata[filialdata['number_store']==np.float64(filiale)]['state'].values[0]\n",
    "        vor_feiertag = list(np.array(feiertage[bundesland]) - datetime.timedelta(days=1))\n",
    "        zweivor_feiertag = list(np.array(feiertage[bundesland]) - datetime.timedelta(days=2))\n",
    "        fillatlon = filialdata[filialdata['number_store']==int(filiale)]['latlon'].values[0]\n",
    "        firstart = list(fildict[filiale].keys())[0] # Annahme: Zeitreihen der Filialen sind gleich\n",
    "        filialweather = weatherdict[fillatlon][weatherdict[fillatlon]['date'].isin(fildict[filiale][firstart]['date'])]\n",
    "        #Bundesland für jeweilige Filiale\n",
    "        for artikel in fildict[filiale].keys():\n",
    "            df = fildict[filiale][artikel]\n",
    "            df['datecode'] = 0\n",
    "            df.loc[:, 'date'] = pd.to_datetime(df['date']) #change date to timestamp format\n",
    "            #Feiertag = 1; Ferien = 2; ein Tag vor Feiertage = 3; zwei Tage vor Feiertag = 4\n",
    "            df.loc[df['date'].isin(zweivor_feiertag), 'datecode'] = 4\n",
    "            df.loc[df['date'].isin(vor_feiertag), 'datecode'] = 3\n",
    "            df.loc[df['date'].isin(ferientage[bundesland]),'datecode'] = 2\n",
    "            df.loc[df['date'].isin(feiertage[bundesland]),'datecode'] = 1\n",
    "            #MA and lag features (defiened in parameters)\n",
    "            #df[\"ma_\" + str(parameters['MA_used'])] = df['x'].rolling(window=parameters['MA_used']).mean()\n",
    "            for lag in parameters['lags_used']:\n",
    "                df[\"lag_\" + str(lag)] = df.shift(lag)['amount']\n",
    "                #df[\"datelag_\" + str(lag)] = df.shift(lag)['datecode']\n",
    "            df = pd.merge(df, filialweather, how='inner', on=['date', 'date'])\n",
    "            fildict[filiale][artikel] = df\n",
    "    return fildict"
   ]
  },
  {
   "cell_type": "markdown",
   "metadata": {},
   "source": [
    "# Loading the important data"
   ]
  },
  {
   "cell_type": "code",
   "execution_count": 46,
   "metadata": {},
   "outputs": [],
   "source": [
    "#Problem: brauche eigentlich nur Datums für zukünftige Vorhersage"
   ]
  },
  {
   "cell_type": "code",
   "execution_count": 102,
   "metadata": {},
   "outputs": [
    {
     "data": {
      "text/plain": [
       "32"
      ]
     },
     "execution_count": 102,
     "metadata": {},
     "output_type": "execute_result"
    }
   ],
   "source": [
    "#locations = \n",
    "len(['49.57,9.71', '49.62,9.66', '49.49,9.77', '49.58,9.71',\n",
    "       '49.63,9.67', '49.51,9.69', '49.48,9.64', '49.52,9.33',\n",
    "       '49.49,9.78', '49.53,9.33', '49.61,9.74', '49.71,9.26',\n",
    "       '49.48,9.9', '49.5,9.77', '49.49,9.82', '49.63,9.65', '49.62,9.48',\n",
    "       '49.54,9.73', '49.57,9.7', '49.37,9.95', '49.78,9.5', '49.8,9.94',\n",
    "       '49.78,9.93', '49.78,9.88', '49.8,9.93', '49.79,9.91',\n",
    "       '49.76,9.95', '49.79,9.94', '49.78,9.95', '49.79,9.93',\n",
    "       '49.43,9.43', '49.61,9.47'])"
   ]
  },
  {
   "cell_type": "code",
   "execution_count": 89,
   "metadata": {},
   "outputs": [
    {
     "data": {
      "text/html": [
       "<div>\n",
       "<style scoped>\n",
       "    .dataframe tbody tr th:only-of-type {\n",
       "        vertical-align: middle;\n",
       "    }\n",
       "\n",
       "    .dataframe tbody tr th {\n",
       "        vertical-align: top;\n",
       "    }\n",
       "\n",
       "    .dataframe thead th {\n",
       "        text-align: right;\n",
       "    }\n",
       "</style>\n",
       "<table border=\"1\" class=\"dataframe\">\n",
       "  <thead>\n",
       "    <tr style=\"text-align: right;\">\n",
       "      <th></th>\n",
       "      <th>amount</th>\n",
       "      <th>artnr</th>\n",
       "      <th>date</th>\n",
       "      <th>discount</th>\n",
       "      <th>filnr</th>\n",
       "      <th>id</th>\n",
       "    </tr>\n",
       "  </thead>\n",
       "  <tbody>\n",
       "    <tr>\n",
       "      <th>0</th>\n",
       "      <td>1060</td>\n",
       "      <td>101</td>\n",
       "      <td>2016-01-04</td>\n",
       "      <td>0</td>\n",
       "      <td>2</td>\n",
       "      <td>1</td>\n",
       "    </tr>\n",
       "    <tr>\n",
       "      <th>1</th>\n",
       "      <td>10</td>\n",
       "      <td>109</td>\n",
       "      <td>2016-01-04</td>\n",
       "      <td>6</td>\n",
       "      <td>2</td>\n",
       "      <td>2</td>\n",
       "    </tr>\n",
       "    <tr>\n",
       "      <th>2</th>\n",
       "      <td>680</td>\n",
       "      <td>110</td>\n",
       "      <td>2016-01-04</td>\n",
       "      <td>0</td>\n",
       "      <td>2</td>\n",
       "      <td>3</td>\n",
       "    </tr>\n",
       "    <tr>\n",
       "      <th>3</th>\n",
       "      <td>20</td>\n",
       "      <td>115</td>\n",
       "      <td>2016-01-04</td>\n",
       "      <td>0</td>\n",
       "      <td>2</td>\n",
       "      <td>4</td>\n",
       "    </tr>\n",
       "    <tr>\n",
       "      <th>4</th>\n",
       "      <td>0</td>\n",
       "      <td>211</td>\n",
       "      <td>2016-01-04</td>\n",
       "      <td>0</td>\n",
       "      <td>2</td>\n",
       "      <td>5</td>\n",
       "    </tr>\n",
       "    <tr>\n",
       "      <th>...</th>\n",
       "      <td>...</td>\n",
       "      <td>...</td>\n",
       "      <td>...</td>\n",
       "      <td>...</td>\n",
       "      <td>...</td>\n",
       "      <td>...</td>\n",
       "    </tr>\n",
       "    <tr>\n",
       "      <th>395</th>\n",
       "      <td>70</td>\n",
       "      <td>225</td>\n",
       "      <td>2016-01-04</td>\n",
       "      <td>0</td>\n",
       "      <td>71</td>\n",
       "      <td>396</td>\n",
       "    </tr>\n",
       "    <tr>\n",
       "      <th>396</th>\n",
       "      <td>40</td>\n",
       "      <td>231</td>\n",
       "      <td>2016-01-04</td>\n",
       "      <td>0</td>\n",
       "      <td>71</td>\n",
       "      <td>397</td>\n",
       "    </tr>\n",
       "    <tr>\n",
       "      <th>397</th>\n",
       "      <td>350</td>\n",
       "      <td>305</td>\n",
       "      <td>2016-01-04</td>\n",
       "      <td>0</td>\n",
       "      <td>71</td>\n",
       "      <td>398</td>\n",
       "    </tr>\n",
       "    <tr>\n",
       "      <th>398</th>\n",
       "      <td>0</td>\n",
       "      <td>384</td>\n",
       "      <td>2016-01-04</td>\n",
       "      <td>0</td>\n",
       "      <td>71</td>\n",
       "      <td>399</td>\n",
       "    </tr>\n",
       "    <tr>\n",
       "      <th>399</th>\n",
       "      <td>210</td>\n",
       "      <td>626</td>\n",
       "      <td>2016-01-04</td>\n",
       "      <td>0</td>\n",
       "      <td>71</td>\n",
       "      <td>400</td>\n",
       "    </tr>\n",
       "  </tbody>\n",
       "</table>\n",
       "<p>400 rows × 6 columns</p>\n",
       "</div>"
      ],
      "text/plain": [
       "     amount  artnr       date  discount  filnr   id\n",
       "0      1060    101 2016-01-04         0      2    1\n",
       "1        10    109 2016-01-04         6      2    2\n",
       "2       680    110 2016-01-04         0      2    3\n",
       "3        20    115 2016-01-04         0      2    4\n",
       "4         0    211 2016-01-04         0      2    5\n",
       "..      ...    ...        ...       ...    ...  ...\n",
       "395      70    225 2016-01-04         0     71  396\n",
       "396      40    231 2016-01-04         0     71  397\n",
       "397     350    305 2016-01-04         0     71  398\n",
       "398       0    384 2016-01-04         0     71  399\n",
       "399     210    626 2016-01-04         0     71  400\n",
       "\n",
       "[400 rows x 6 columns]"
      ]
     },
     "execution_count": 89,
     "metadata": {},
     "output_type": "execute_result"
    }
   ],
   "source": [
    "sales[sales['date']==sales[sales['discount']>0]['date'].unique()[0]]"
   ]
  },
  {
   "cell_type": "code",
   "execution_count": 107,
   "metadata": {},
   "outputs": [
    {
     "data": {
      "text/plain": [
       "40"
      ]
     },
     "execution_count": 107,
     "metadata": {},
     "output_type": "execute_result"
    }
   ],
   "source": [
    "len(sales['filnr'].unique())"
   ]
  },
  {
   "cell_type": "code",
   "execution_count": 113,
   "metadata": {},
   "outputs": [
    {
     "name": "stdout",
     "output_type": "stream",
     "text": [
      "1 :  3360\n",
      "2 :  1120\n",
      "3 :  14000\n",
      "4 :  0\n",
      "5 :  840\n",
      "6 :  3600\n"
     ]
    }
   ],
   "source": [
    "for i in range(1, 7):\n",
    "    print(i, ': ', len(sales[sales['discount']==i]))"
   ]
  },
  {
   "cell_type": "code",
   "execution_count": 100,
   "metadata": {},
   "outputs": [
    {
     "name": "stderr",
     "output_type": "stream",
     "text": [
      "/home/lukas/pjs/operativelogik/oplogik/lib/python3.8/site-packages/ipykernel/ipkernel.py:287: DeprecationWarning: `should_run_async` will not call `transform_cell` automatically in the future. Please pass the result to `transformed_cell` argument and any exception that happen during thetransform in `preprocessing_exc_tuple` in IPython 7.17 and above.\n",
      "  and should_run_async(code)\n"
     ]
    },
    {
     "data": {
      "text/plain": [
       "array([101, 109, 110, 115, 211, 225, 231, 305, 384, 626])"
      ]
     },
     "execution_count": 100,
     "metadata": {},
     "output_type": "execute_result"
    }
   ],
   "source": [
    "sales['artnr'].unique()"
   ]
  },
  {
   "cell_type": "code",
   "execution_count": 78,
   "metadata": {},
   "outputs": [
    {
     "data": {
      "text/plain": [
       "31000"
      ]
     },
     "execution_count": 78,
     "metadata": {},
     "output_type": "execute_result"
    }
   ],
   "source": [
    "775*len(sales['filnr'].unique())"
   ]
  },
  {
   "cell_type": "markdown",
   "metadata": {},
   "source": [
    "# API_Abfrage"
   ]
  },
  {
   "cell_type": "code",
   "execution_count": 8,
   "metadata": {},
   "outputs": [],
   "source": [
    "r = len(requests.get(url='http://35.234.103.119/api/sales/artnr').json())\n",
    "n_arts = len(r.json())\n",
    "r = requests.get(url='http://35.234.103.119/api/sales/filnr').json()\n",
    "n_fils = len(requests.get(url='http://35.234.103.119/api/sales/filnr').json())\n",
    "#\n",
    "#total = 'http://35.234.103.119/api/sales/id'"
   ]
  },
  {
   "cell_type": "code",
   "execution_count": 38,
   "metadata": {},
   "outputs": [],
   "source": [
    "import asyncio\n",
    "import aiohttp"
   ]
  },
  {
   "cell_type": "code",
   "execution_count": 44,
   "metadata": {},
   "outputs": [],
   "source": [
    "def framer(pred_duration):\n",
    "    n_arts = len(requests.get(url='http://35.234.103.119/api/sales/artnr').json())\n",
    "    n_fils = len(requests.get(url='http://35.234.103.119/api/sales/filnr').json())\n",
    "    api_length = n_arts * n_fils\n",
    "    total = 450000\n",
    "    start = int(total / api_length- pred_duration)\n",
    "    end = int(total/api_length) + 1\n",
    "    pages = range(start, end)\n",
    "    URL = 'http://35.234.103.119/api/sales?&pageSize=' + str(api_length) + '&page='\n",
    "    list_df = func(URL, pages)\n",
    "    df = pd.concat(list(pd.Series(list_df).apply(lambda x: pd.json_normalize(x))))\n",
    "    df = salesdata.append(df)\n",
    "    return df"
   ]
  },
  {
   "cell_type": "code",
   "execution_count": 22,
   "metadata": {},
   "outputs": [],
   "source": [
    "predrange = 7"
   ]
  },
  {
   "cell_type": "code",
   "execution_count": 42,
   "metadata": {},
   "outputs": [],
   "source": [
    "# asynchronen Funktionen für API-Abfrage\n",
    "async def fetch(session, url):\n",
    "    async with session.get(url) as response:\n",
    "        json_response = await response.json()\n",
    "        return json_response\n",
    "\n",
    "async def main(URL, pages):\n",
    "    async with aiohttp.ClientSession() as session:\n",
    "        tasks = [fetch(session, (URL+str(i))) for i in pages]\n",
    "        responses = await asyncio.gather(*tasks)\n",
    "        return responses\n",
    "\n",
    "def func(URL, pages):\n",
    "    responses = asyncio.run(main(URL, pages))\n",
    "    return responses"
   ]
  },
  {
   "cell_type": "markdown",
   "metadata": {},
   "source": [
    "# Wetterapi"
   ]
  },
  {
   "cell_type": "code",
   "execution_count": null,
   "metadata": {},
   "outputs": [],
   "source": [
    "def weathergetter(locations, parameters, weatherkey): #params:weatherkey\n",
    "    # Input ps: pd.core.Series mit Datum für historische Vorhersage; z.B: ps = fildict['2']['101']['date']\n",
    "    # filialdata mit lat und lon-Werten\n",
    "    filialdata.loc[:, 'latlon'] = filialdata.apply(lambda row: str(round(row['lat'], 2)) + ',' + str(round(row['lon'], 2)), axis=1)\n",
    "    weatherdict = {}\n",
    "    apifails = {}\n",
    "    ps = pd.to_datetime(pd.Series(parameters['pred_dates']))\n",
    "    for location in filialdata['latlon'].unique():\n",
    "        queries = daynator(ps)\n",
    "        requestdata = weatherrequester(ps, queries, location, apifails, weatherkey)\n",
    "        #nur Datum bis heute über historische Vorhersage-API\n",
    "        latlonweather = requestdata[0]\n",
    "        #apifails = requestdata[1]\n",
    "        weatherdict[location] = pd.DataFrame.from_dict(latlonweather)\n",
    "    return [weatherdict, apifails]"
   ]
  },
  {
   "cell_type": "code",
   "execution_count": 56,
   "metadata": {},
   "outputs": [
    {
     "name": "stdout",
     "output_type": "stream",
     "text": [
      "2019-04-24\n",
      "2019-04-25\n",
      "2019-04-26\n",
      "2019-04-27\n",
      "2019-04-28\n",
      "2019-04-29\n",
      "2019-04-30\n"
     ]
    }
   ],
   "source": [
    "for date in parameters['pred_dates']:\n",
    "    print(date[:-9])"
   ]
  },
  {
   "cell_type": "code",
   "execution_count": 8,
   "metadata": {},
   "outputs": [],
   "source": [
    "def daynator(ps:pd.core.series.Series):\n",
    "    first_days = []\n",
    "    last_days = []\n",
    "    querydict = {}\n",
    "    for year in ps.apply(lambda x: x.year).unique():\n",
    "        for month in ps[ps.apply(lambda x: x.year)==year].apply(lambda x: x.month).unique():\n",
    "            first_day_int = min(ps[(ps.apply(lambda x: x.year)==year) & (ps.apply(lambda x: x.month)==month)].apply(lambda x: x.day))\n",
    "            first_days.append(str(year)+'-'+str(month).zfill(2)+'-'+ str(first_day_int))\n",
    "            last_day_int = max(ps[(ps.apply(lambda x: x.year)==year) & (ps.apply(lambda x: x.month)==month)].apply(lambda x: x.day))\n",
    "            last_days.append(str(year)+'-'+str(month).zfill(2)+'-'+ str(last_day_int))\n",
    "    querydict['first_days'] = pd.to_datetime(first_days)\n",
    "    querydict['last_days'] = pd.to_datetime(last_days)\n",
    "    return pd.DataFrame.from_dict(querydict)"
   ]
  },
  {
   "cell_type": "code",
   "execution_count": 26,
   "metadata": {},
   "outputs": [
    {
     "name": "stderr",
     "output_type": "stream",
     "text": [
      "/home/lukas/pjs/operativelogik/oplogik/lib/python3.8/site-packages/ipykernel/ipkernel.py:287: DeprecationWarning: `should_run_async` will not call `transform_cell` automatically in the future. Please pass the result to `transformed_cell` argument and any exception that happen during thetransform in `preprocessing_exc_tuple` in IPython 7.17 and above.\n",
      "  and should_run_async(code)\n"
     ]
    }
   ],
   "source": [
    "ps = pd.to_datetime(pd.Series(parameters['pred_dates']))\n",
    "queries = daynator(ps)"
   ]
  },
  {
   "cell_type": "code",
   "execution_count": 52,
   "metadata": {},
   "outputs": [
    {
     "data": {
      "text/plain": [
       "['2019-04-24 00:00:00',\n",
       " '2019-04-25 00:00:00',\n",
       " '2019-04-26 00:00:00',\n",
       " '2019-04-27 00:00:00',\n",
       " '2019-04-28 00:00:00',\n",
       " '2019-04-29 00:00:00',\n",
       " '2019-04-30 00:00:00']"
      ]
     },
     "execution_count": 52,
     "metadata": {},
     "output_type": "execute_result"
    }
   ],
   "source": [
    "parameters['pred_dates']"
   ]
  },
  {
   "cell_type": "code",
   "execution_count": 62,
   "metadata": {},
   "outputs": [],
   "source": [
    "example1 = ['2020-11-06 00:00:00',\n",
    " '2020-11-09 00:00:00',\n",
    " '2020-11-10 00:00:00',\n",
    " '2020-11-11 00:00:00',\n",
    " '2020-11-12 00:00:00',\n",
    " '2020-11-13 00:00:00',]"
   ]
  },
  {
   "cell_type": "code",
   "execution_count": 63,
   "metadata": {},
   "outputs": [],
   "source": [
    "queries = daynator(pd.to_datetime(pd.Series(example1)))"
   ]
  },
  {
   "cell_type": "code",
   "execution_count": 49,
   "metadata": {},
   "outputs": [
    {
     "data": {
      "text/plain": [
       "Timestamp('2019-04-24 00:00:00')"
      ]
     },
     "execution_count": 49,
     "metadata": {},
     "output_type": "execute_result"
    }
   ],
   "source": [
    "queries['first_days'][0]"
   ]
  },
  {
   "cell_type": "code",
   "execution_count": 50,
   "metadata": {},
   "outputs": [
    {
     "data": {
      "text/plain": [
       "datetime.date(2020, 11, 7)"
      ]
     },
     "execution_count": 50,
     "metadata": {},
     "output_type": "execute_result"
    }
   ],
   "source": [
    "datetime.date.today()"
   ]
  },
  {
   "cell_type": "code",
   "execution_count": 51,
   "metadata": {},
   "outputs": [
    {
     "data": {
      "text/plain": [
       "Timestamp('2019-04-30 00:00:00')"
      ]
     },
     "execution_count": 51,
     "metadata": {},
     "output_type": "execute_result"
    }
   ],
   "source": [
    "queries['last_days'][0]"
   ]
  },
  {
   "cell_type": "code",
   "execution_count": 60,
   "metadata": {},
   "outputs": [
    {
     "data": {
      "text/plain": [
       "'2020-11-07'"
      ]
     },
     "execution_count": 60,
     "metadata": {},
     "output_type": "execute_result"
    }
   ],
   "source": [
    "str(datetime.date.today())"
   ]
  },
  {
   "cell_type": "code",
   "execution_count": 70,
   "metadata": {},
   "outputs": [],
   "source": [
    "duration = str((queries['last_days'][0]- pd.Timestamp(datetime.date.today())).days +1)"
   ]
  },
  {
   "cell_type": "code",
   "execution_count": 71,
   "metadata": {},
   "outputs": [
    {
     "data": {
      "text/plain": [
       "'6'"
      ]
     },
     "execution_count": 71,
     "metadata": {},
     "output_type": "execute_result"
    }
   ],
   "source": [
    "duration"
   ]
  },
  {
   "cell_type": "code",
   "execution_count": 64,
   "metadata": {},
   "outputs": [
    {
     "name": "stdout",
     "output_type": "stream",
     "text": [
      "3\n"
     ]
    },
    {
     "name": "stderr",
     "output_type": "stream",
     "text": [
      "/home/lukas/pjs/operativelogik/oplogik/lib/python3.8/site-packages/ipykernel/ipkernel.py:287: DeprecationWarning: `should_run_async` will not call `transform_cell` automatically in the future. Please pass the result to `transformed_cell` argument and any exception that happen during thetransform in `preprocessing_exc_tuple` in IPython 7.17 and above.\n",
      "  and should_run_async(code)\n"
     ]
    }
   ],
   "source": [
    "if datetime.date.today() >= queries['last_days'][i]:\n",
    "    print(1)\n",
    "    #historisch\n",
    "elif datetime.date.today() < queries['first_days'][i]:\n",
    "    print(2)\n",
    "    #zukünftig: Input: \n",
    "else:\n",
    "    #erste fkt Input: queries['first_days'][0], datetime.date.today()\n",
    "    #zweite fkt: Input: \n",
    "    print(3)\n",
    "    \n",
    "#split: -today & ab morgen"
   ]
  },
  {
   "cell_type": "code",
   "execution_count": null,
   "metadata": {},
   "outputs": [],
   "source": [
    "# wetter checken: \n",
    "# ps[ps<=pd.to_datetime(datetime.date.today())]\n",
    "# ps[ps>pd.to_datetime(datetime.date.today())]"
   ]
  },
  {
   "cell_type": "code",
   "execution_count": 85,
   "metadata": {},
   "outputs": [],
   "source": [
    "datadict = {'date': np.empty(0, dtype='datetime64[ns]'), 'sunhour':np.empty(0),\n",
    " 'feels_like':np.empty(0), 'heat_index':np.empty(0), 'weathercodes': np.empty(0)}"
   ]
  },
  {
   "cell_type": "code",
   "execution_count": 114,
   "metadata": {},
   "outputs": [
    {
     "data": {
      "text/html": [
       "<div>\n",
       "<style scoped>\n",
       "    .dataframe tbody tr th:only-of-type {\n",
       "        vertical-align: middle;\n",
       "    }\n",
       "\n",
       "    .dataframe tbody tr th {\n",
       "        vertical-align: top;\n",
       "    }\n",
       "\n",
       "    .dataframe thead th {\n",
       "        text-align: right;\n",
       "    }\n",
       "</style>\n",
       "<table border=\"1\" class=\"dataframe\">\n",
       "  <thead>\n",
       "    <tr style=\"text-align: right;\">\n",
       "      <th></th>\n",
       "      <th>first_days</th>\n",
       "      <th>last_days</th>\n",
       "    </tr>\n",
       "  </thead>\n",
       "  <tbody>\n",
       "    <tr>\n",
       "      <th>0</th>\n",
       "      <td>2020-11-06</td>\n",
       "      <td>2020-11-13</td>\n",
       "    </tr>\n",
       "  </tbody>\n",
       "</table>\n",
       "</div>"
      ],
      "text/plain": [
       "  first_days  last_days\n",
       "0 2020-11-06 2020-11-13"
      ]
     },
     "execution_count": 114,
     "metadata": {},
     "output_type": "execute_result"
    }
   ],
   "source": [
    "queries"
   ]
  },
  {
   "cell_type": "code",
   "execution_count": 149,
   "metadata": {},
   "outputs": [],
   "source": [
    "new = weatherrequester(queries, location, {}, weatherkey)"
   ]
  },
  {
   "cell_type": "code",
   "execution_count": 151,
   "metadata": {},
   "outputs": [
    {
     "data": {
      "text/plain": [
       "dict_keys(['date', 'sunhour', 'weathercodes', 'feels_like', 'heat_index'])"
      ]
     },
     "execution_count": 151,
     "metadata": {},
     "output_type": "execute_result"
    }
   ],
   "source": [
    "new[0].keys()"
   ]
  },
  {
   "cell_type": "code",
   "execution_count": 128,
   "metadata": {},
   "outputs": [],
   "source": [
    "datadict = {'date': np.empty(0, dtype='datetime64[ns]')}"
   ]
  },
  {
   "cell_type": "code",
   "execution_count": 131,
   "metadata": {},
   "outputs": [
    {
     "data": {
      "text/plain": [
       "array([], dtype='datetime64[ns]')"
      ]
     },
     "execution_count": 131,
     "metadata": {},
     "output_type": "execute_result"
    }
   ],
   "source": [
    "datadict['date']"
   ]
  },
  {
   "cell_type": "code",
   "execution_count": 136,
   "metadata": {},
   "outputs": [],
   "source": [
    "datadict['date'] = np.append(datadict['date'], pd.to_datetime(jsonframe['date']).values)"
   ]
  },
  {
   "cell_type": "code",
   "execution_count": 137,
   "metadata": {},
   "outputs": [
    {
     "data": {
      "text/plain": [
       "array(['2020-11-09T00:00:00.000000000', '2020-11-10T00:00:00.000000000',\n",
       "       '2020-11-11T00:00:00.000000000', '2020-11-12T00:00:00.000000000',\n",
       "       '2020-11-13T00:00:00.000000000', '2020-11-14T00:00:00.000000000',\n",
       "       '2020-11-15T00:00:00.000000000', '2020-11-09T00:00:00.000000000',\n",
       "       '2020-11-10T00:00:00.000000000', '2020-11-11T00:00:00.000000000',\n",
       "       '2020-11-12T00:00:00.000000000', '2020-11-13T00:00:00.000000000',\n",
       "       '2020-11-14T00:00:00.000000000', '2020-11-15T00:00:00.000000000'],\n",
       "      dtype='datetime64[ns]')"
      ]
     },
     "execution_count": 137,
     "metadata": {},
     "output_type": "execute_result"
    }
   ],
   "source": [
    "datadict['date']"
   ]
  },
  {
   "cell_type": "code",
   "execution_count": 146,
   "metadata": {},
   "outputs": [],
   "source": [
    "def weatherrequester(queries, location, apifails, weatherkey):\n",
    "    latlonweather = {}\n",
    "    datadict = {'date': np.empty(0, dtype='datetime64[ns]'), 'sunhour':np.empty(0),\n",
    "     'feels_like':np.empty(0), 'heat_index':np.empty(0), 'weathercodes': np.empty(0)}\n",
    "    # --> hier ggf. auf queryfunktion\n",
    "    for i in range(0, len(queries)):\n",
    "        if datetime.date.today() >= queries['last_days'][i]:\n",
    "            # nur historisch: gleiche wie in planungslogik\n",
    "            start_date = str(queries['first_days'][i])[:-9]\n",
    "            end_date = str(queries['last_days'][i])[:-9]\n",
    "            [datadict, apifails] = wheaterhist(apifails, datadict, weatherkey, location, start_date, end_date)\n",
    "            #historisch\n",
    "        elif datetime.date.today() < queries['first_days'][i]:\n",
    "            #nur zukünftig: duration = Zeitunterschied zu heute\n",
    "            duration = str((queries['last_days'][i]- pd.Timestamp(datetime.date.today())).days)\n",
    "            [datadict, apifails] = wheatherpred(apifails, datadict, weatherkey, location, duration)\n",
    "        else:\n",
    "            # historisch + zukünftig -> zuerst hist, dann pred\n",
    "            start_date = str(queries['first_days'][i])[:-9]\n",
    "            end_date = str(datetime.date.today())\n",
    "            [datadict, apifails] = wheaterhist(apifails, datadict, weatherkey, location, start_date, end_date)\n",
    "            duration = str((queries['last_days'][i]- pd.Timestamp(datetime.date.today())).days)\n",
    "            [datadict, apifails] = wheatherpred(apifails, datadict, weatherkey, location, duration)\n",
    "    latlonweather['date'] = datadict['date']\n",
    "    latlonweather['sunhour'] = datadict['sunhour']\n",
    "    latlonweather['weathercodes'] = datadict['weathercodes']\n",
    "    latlonweather['feels_like'] = datadict['feels_like']\n",
    "    latlonweather['heat_index'] = datadict['heat_index']\n",
    "    return [latlonweather, apifails]"
   ]
  },
  {
   "cell_type": "code",
   "execution_count": 145,
   "metadata": {},
   "outputs": [],
   "source": [
    "def wheaterhist(apifails, datadict, weatherkey, location, start_date, end_date):\n",
    "    URL = 'http://api.worldweatheronline.com/premium/v1/past-weather.ashx?key=' + weatherkey + '&q=' + location + '&date=' + start_date + '&enddate=' + end_date + '&format=json&tp=24'\n",
    "    datadict = apicrawler(apifails, URL, datadict)\n",
    "    return [datadict, apifails]"
   ]
  },
  {
   "cell_type": "code",
   "execution_count": 144,
   "metadata": {},
   "outputs": [],
   "source": [
    "def wheatherpred(apifails, datadict, weatherkey, location, duration):\n",
    "    URL = ('https://api.worldweatheronline.com/premium/v1/weather.ashx?key=' +\n",
    "           weatherkey + '&q=' + location + '&num_of_days=' + duration + '&cc=no' + '&format=json&tp=24')\n",
    "    datadict = apicrawler(apifails, URL, datadict) \n",
    "    return [datadict, apifails]"
   ]
  },
  {
   "cell_type": "code",
   "execution_count": 148,
   "metadata": {},
   "outputs": [],
   "source": [
    "def apicrawler(apifails, URL, datadict):\n",
    "    r = requests.get(url=URL)\n",
    "    while True: #nötig, falls request failed\n",
    "        try:\n",
    "            data = r.json()['data']['weather']\n",
    "            break\n",
    "        except:\n",
    "            apifails[location] = [str(datetime.date.today()), duration]\n",
    "            r = requests.get(url=URL)\n",
    "            data = r.json()['data']['weather']\n",
    "            break\n",
    "    jsonframe = pd.DataFrame.from_dict(data)\n",
    "    datadict['date'] = np.append(datadict['date'], pd.to_datetime(jsonframe['date']).values)\n",
    "    datadict['sunhour'] = np.append(datadict['sunhour'], np.float64(jsonframe['sunHour'].values))\n",
    "    datadict['weathercodes'] = np.append(datadict['weathercodes'],np.float64(jsonframe.apply(lambda row: row['hourly'][0]['weatherCode'], axis=1).values))\n",
    "    datadict['feels_like'] = np.append(datadict['feels_like'],np.float64(jsonframe.apply(lambda row: row['hourly'][0]['FeelsLikeC'], axis=1).values))\n",
    "    datadict['heat_index'] = np.append(datadict['heat_index'], np.float64(jsonframe.apply(lambda row: row['hourly'][0]['HeatIndexC'], axis=1).values))\n",
    "    return datadict"
   ]
  },
  {
   "cell_type": "code",
   "execution_count": 92,
   "metadata": {},
   "outputs": [],
   "source": [
    "r = requests.get(url=URL)\n",
    "while True: #nötig, falls request failed\n",
    "    try:\n",
    "        data = r.json()['data']['weather']\n",
    "        break\n",
    "    except:\n",
    "        apifails[location] = [str(datetime.date.today()), duration]\n",
    "        r = requests.get(url=URL)\n",
    "        data = r.json()['data']['weather']\n",
    "        break"
   ]
  },
  {
   "cell_type": "code",
   "execution_count": 94,
   "metadata": {},
   "outputs": [],
   "source": [
    "jsonframe = pd.DataFrame.from_dict(data)"
   ]
  },
  {
   "cell_type": "code",
   "execution_count": 119,
   "metadata": {},
   "outputs": [],
   "source": [
    "weatherkey = 'f829e43bc7bd465f8db92239201910'\n",
    "location = '49.57,9.71'\n",
    "duration = '7'"
   ]
  },
  {
   "cell_type": "code",
   "execution_count": 108,
   "metadata": {},
   "outputs": [],
   "source": [
    "new = wheatherpred({}, datadict, weatherkey, location, duration)"
   ]
  },
  {
   "cell_type": "code",
   "execution_count": 111,
   "metadata": {},
   "outputs": [],
   "source": [
    "[new, life] = wheatherpred({}, datadict, weatherkey, location, duration)"
   ]
  },
  {
   "cell_type": "code",
   "execution_count": 96,
   "metadata": {},
   "outputs": [
    {
     "name": "stderr",
     "output_type": "stream",
     "text": [
      "/home/lukas/pjs/operativelogik/oplogik/lib/python3.8/site-packages/ipykernel/ipkernel.py:287: DeprecationWarning: `should_run_async` will not call `transform_cell` automatically in the future. Please pass the result to `transformed_cell` argument and any exception that happen during thetransform in `preprocessing_exc_tuple` in IPython 7.17 and above.\n",
      "  and should_run_async(code)\n"
     ]
    },
    {
     "data": {
      "text/plain": [
       "array(['2020-11-09T00:00:00.000000000', '2020-11-10T00:00:00.000000000',\n",
       "       '2020-11-11T00:00:00.000000000', '2020-11-12T00:00:00.000000000',\n",
       "       '2020-11-13T00:00:00.000000000', '2020-11-14T00:00:00.000000000',\n",
       "       '2020-11-15T00:00:00.000000000'], dtype='datetime64[ns]')"
      ]
     },
     "execution_count": 96,
     "metadata": {},
     "output_type": "execute_result"
    }
   ],
   "source": [
    "pd.to_datetime(jsonframe['date']).values"
   ]
  },
  {
   "cell_type": "code",
   "execution_count": 37,
   "metadata": {},
   "outputs": [
    {
     "data": {
      "text/plain": [
       "'https://api.worldweatheronline.com/premium/v1/weather.ashx ?key=f829e43bc7bd465f8db92239201910&q=49.57,9.71&date=2020-11-10&num_of_days=6&cc=no&format=json&tp=24'"
      ]
     },
     "execution_count": 37,
     "metadata": {},
     "output_type": "execute_result"
    }
   ],
   "source": [
    "('https://api.worldweatheronline.com/premium/v1/weather.ashx ' + '?key='\n",
    " +'f829e43bc7bd465f8db92239201910'+ '&q=' + '49.57,9.71' +\n",
    " '&num_of_days=' + duration + '&cc=no' + '&format=json&tp=24')"
   ]
  },
  {
   "cell_type": "code",
   "execution_count": null,
   "metadata": {},
   "outputs": [],
   "source": [
    "http://api.worldweatheronline.com/premium/v1/past-weather.ashx/?key=f829e43bc7bd465f8db92239201910&q=49.57,9.71&date=2020-11-01&enddate=2020-11-07&format=json&tp=24"
   ]
  },
  {
   "cell_type": "markdown",
   "metadata": {},
   "source": [
    "# Archive"
   ]
  },
  {
   "cell_type": "code",
   "execution_count": null,
   "metadata": {},
   "outputs": [],
   "source": [
    "'''\n",
    "def salesgenerator(parameters):\n",
    "    df = pd.DataFrame(columns = ['amount', 'artnr', 'date', 'discount', 'filnr', 'id'])\n",
    "    i = 1\n",
    "    while True:\n",
    "        try:\n",
    "            URL = \"https://level3-microservice.ew.r.appspot.com/api/employee/all/\" + str(i)\n",
    "            r = requests.get(url=URL)\n",
    "            appender = pd.DataFrame(r.json())\n",
    "            appender['date'].head(1)\n",
    "            df = df.append(appender)\n",
    "            i += 1\n",
    "        except:\n",
    "            print(i)\n",
    "            break\n",
    "    df['date'] = pd.to_datetime(df['date'])\n",
    "    df = df[df['date'].isin(parameters['pred_dates']) &  \n",
    "            df['artnr'].isin(parameters['artikel']) &\n",
    "                df['filnr'].isin(parameters['filialen'])]\n",
    "    df.drop('id', axis = 1, inplace = True)\n",
    "    return df\n",
    "'''"
   ]
  }
 ],
 "metadata": {
  "kernelspec": {
   "display_name": "Python 3",
   "language": "python",
   "name": "python3"
  },
  "language_info": {
   "codemirror_mode": {
    "name": "ipython",
    "version": 3
   },
   "file_extension": ".py",
   "mimetype": "text/x-python",
   "name": "python",
   "nbconvert_exporter": "python",
   "pygments_lexer": "ipython3",
   "version": "3.8.5"
  }
 },
 "nbformat": 4,
 "nbformat_minor": 4
}
